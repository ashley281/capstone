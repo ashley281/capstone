{
 "cells": [
  {
   "cell_type": "code",
   "execution_count": 1,
   "id": "f578021f",
   "metadata": {},
   "outputs": [],
   "source": [
    "import ee\n",
    "import geemap"
   ]
  },
  {
   "cell_type": "code",
   "execution_count": 2,
   "id": "d6a2ec26",
   "metadata": {},
   "outputs": [
    {
     "data": {
      "application/vnd.jupyter.widget-view+json": {
       "model_id": "89b8322db0d1448ca3d98bb1ac180541",
       "version_major": 2,
       "version_minor": 0
      },
      "text/plain": [
       "Map(center=[40, -100], controls=(WidgetControl(options=['position'], widget=HBox(children=(ToggleButton(value=…"
      ]
     },
     "metadata": {},
     "output_type": "display_data"
    }
   ],
   "source": [
    "Map = geemap.Map()\n",
    "Map"
   ]
  },
  {
   "cell_type": "code",
   "execution_count": 3,
   "id": "3162b3ec",
   "metadata": {},
   "outputs": [],
   "source": [
    "image = ee.Image(\"LANDSAT/LC08/C01/T1_SR/LC08_044034_20201012\")"
   ]
  },
  {
   "cell_type": "code",
   "execution_count": 4,
   "id": "9cb9e9a0",
   "metadata": {},
   "outputs": [],
   "source": [
    "ndvi = image.normalizedDifference(['B5', 'B4'])"
   ]
  },
  {
   "cell_type": "code",
   "execution_count": 5,
   "id": "9b49af89",
   "metadata": {},
   "outputs": [],
   "source": [
    "landsat_vis = {\n",
    "    'bands': ['B5', 'B4', 'B3'],\n",
    "    'min': 0,\n",
    "    'max': 3000,\n",
    "    'gamma': 1.5\n",
    "}"
   ]
  },
  {
   "cell_type": "code",
   "execution_count": 6,
   "id": "e4b6fc62",
   "metadata": {},
   "outputs": [],
   "source": [
    "Map.addLayer(image, landsat_vis, \"Landsat\")"
   ]
  },
  {
   "cell_type": "code",
   "execution_count": 7,
   "id": "f5708f43",
   "metadata": {},
   "outputs": [],
   "source": [
    "Map.addLayer(ndvi, {'palette': ['red', 'green']}, \"NDVI\")"
   ]
  },
  {
   "cell_type": "code",
   "execution_count": 8,
   "id": "593b9cb9",
   "metadata": {},
   "outputs": [],
   "source": [
    "Map.centerObject(image)"
   ]
  },
  {
   "cell_type": "code",
   "execution_count": 11,
   "id": "0bb0a8b6",
   "metadata": {},
   "outputs": [
    {
     "data": {
      "application/vnd.jupyter.widget-view+json": {
       "model_id": "98fd95fcee6c410b89e37bd15fe9e46e",
       "version_major": 2,
       "version_minor": 0
      },
      "text/plain": [
       "Map(center=[47.833333, -59.3], controls=(WidgetControl(options=['position'], widget=HBox(children=(ToggleButto…"
      ]
     },
     "metadata": {},
     "output_type": "display_data"
    }
   ],
   "source": [
    "Map = geemap.Map()\n",
    "\n",
    "dataset = ee.ImageCollection('MODIS/MCD43A4_006_NDVI') \\\n",
    "                  .filter(ee.Filter.date('2018-04-01', '2018-06-01'))\n",
    "colorized = dataset.select('NDVI')\n",
    "\n",
    "time_series = colorized.toBands()  #convert collection to image\n",
    "\n",
    "colorizedVis = {\n",
    "  'min': 0.0,\n",
    "  'max': 1.0,\n",
    "  'palette': [\n",
    "    'FFFFFF', 'CE7E45', 'DF923D', 'F1B555', 'FCD163', '99B718', '74A901',\n",
    "    '66A000', '529400', '3E8601', '207401', '056201', '004C00', '023B01',\n",
    "    '012E01', '011D01', '011301'\n",
    "  ],\n",
    "}\n",
    "Map.setCenter(-59.3, 47.833333, 2)\n",
    "Map.addLayer(time_series, {}, \"Time series\", False)\n",
    "Map.addLayer(colorized, colorizedVis, 'Colorized')\n",
    "Map"
   ]
  },
  {
   "cell_type": "code",
   "execution_count": null,
   "id": "590022bd",
   "metadata": {},
   "outputs": [],
   "source": []
  }
 ],
 "metadata": {
  "kernelspec": {
   "display_name": "Python 3",
   "language": "python",
   "name": "python3"
  },
  "language_info": {
   "codemirror_mode": {
    "name": "ipython",
    "version": 3
   },
   "file_extension": ".py",
   "mimetype": "text/x-python",
   "name": "python",
   "nbconvert_exporter": "python",
   "pygments_lexer": "ipython3",
   "version": "3.9.4"
  }
 },
 "nbformat": 4,
 "nbformat_minor": 5
}
