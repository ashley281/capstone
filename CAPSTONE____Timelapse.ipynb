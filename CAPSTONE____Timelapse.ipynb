{
 "cells": [
  {
   "cell_type": "code",
   "execution_count": 1,
   "id": "aa9659cd",
   "metadata": {},
   "outputs": [],
   "source": [
    "## this workflow follows the tutorial published by Qiusheng Wu, Assistant Professor of Geography at the University of Tennessee, Knoxville\n",
    "\n",
    "## https://github.com/giswqs/geemap\n",
    "## https://www.youtube.com/watch?v=OwjSJnGWKJs&list=PLAxJ4-o7ZoPccOFv1dCwvGI6TYnirRTg3&index=20&ab_channel=QiushengWuQiushengWu"
   ]
  },
  {
   "cell_type": "code",
   "execution_count": null,
   "id": "6ff95e05",
   "metadata": {},
   "outputs": [],
   "source": [
    "## imports geemap package into notebook\n",
    "\n",
    "import os\n",
    "import geemap"
   ]
  },
  {
   "cell_type": "code",
   "execution_count": 2,
   "id": "5ca96605",
   "metadata": {},
   "outputs": [],
   "source": [
    "## updates geemap package if necessary\n",
    "\n",
    "#geemap.update_package()"
   ]
  },
  {
   "cell_type": "code",
   "execution_count": 3,
   "id": "e5095ae1",
   "metadata": {},
   "outputs": [
    {
     "data": {
      "application/vnd.jupyter.widget-view+json": {
       "model_id": "9edae6be6744470cbfab0fd29fbe7da9",
       "version_major": 2,
       "version_minor": 0
      },
      "text/plain": [
       "Map(center=[40, -100], controls=(WidgetControl(options=['position'], widget=HBox(children=(ToggleButton(value=…"
      ]
     },
     "metadata": {},
     "output_type": "display_data"
    }
   ],
   "source": [
    "## creates the interactive map\n",
    "\n",
    "Map = geemap.Map()\n",
    "Map\n",
    "\n",
    "## use the polygon drawing tool to define your AOI"
   ]
  },
  {
   "cell_type": "code",
   "execution_count": 9,
   "id": "4e458a01",
   "metadata": {},
   "outputs": [
    {
     "name": "stdout",
     "output_type": "stream",
     "text": [
      "Generating URL...\n",
      "Downloading GIF image from https://earthengine.googleapis.com/v1alpha/projects/earthengine-legacy/videoThumbnails/daf52ce1cfafc2a1b9ee4a2187669379-abd62efec7f3aa252eb6b47f07071500:getPixels\n",
      "Please wait ...\n",
      "The GIF image has been saved to: C:\\Users\\ashle\\Downloads\\landsat_ts_wdm.gif\n",
      "Adding animated text to GIF ...\n",
      "Adding GIF to the map ...\n",
      "The timelapse has been added to the map.\n"
     ]
    }
   ],
   "source": [
    "## roi = the polygon drawn on the map\n",
    "## draw_last_feature clips the landsat timelapse imagery into the polygon boundaries of the last polygon drawn\n",
    "\n",
    "roi = Map.draw_last_feature\n",
    "\n",
    "## timelapse parameters\n",
    "## adjust parameters as desired, and re-run this step to retrieve new data\n",
    "\n",
    "label = 'Codroy Valley Estuary'\n",
    "Map.add_landsat_ts_gif(label='Codroy Valley Estuary, NL', start_year=1985, bands=['Red', 'Green', 'Blue'], font_color='white', frames_per_second=2, progress_bar_color='blue')"
   ]
  },
  {
   "cell_type": "code",
   "execution_count": 5,
   "id": "ea291bb1",
   "metadata": {},
   "outputs": [],
   "source": [
    "## sets download directory for HTML file export\n",
    "\n",
    "download_dir = os.path.join(os.path.expanduser('~'), 'Downloads')\n",
    "if not os.path.exists(download_dir):\n",
    "    os.makedirs(download_dir)\n",
    "html_file = os.path.join(download_dir, 'timelapse.html')\n",
    "\n",
    "## save as HTML file\n",
    "\n",
    "Map.to_html(outfile=html_file, title='Timelapse', width='100%', height='880px')"
   ]
  },
  {
   "cell_type": "code",
   "execution_count": 6,
   "id": "87a57f20",
   "metadata": {},
   "outputs": [],
   "source": [
    "## defines image collection used for the timelapse\n",
    "\n",
    "collection = geemap.landsat_timeseries(roi=roi, start_year=1985, end_year=2021, start_date='06-10', end_date='09-20')"
   ]
  },
  {
   "cell_type": "code",
   "execution_count": 7,
   "id": "2d077612",
   "metadata": {},
   "outputs": [
    {
     "name": "stdout",
     "output_type": "stream",
     "text": [
      "37\n"
     ]
    }
   ],
   "source": [
    "## displays the number of images used to create the timelapse\n",
    "\n",
    "print(collection.size().getInfo())"
   ]
  },
  {
   "cell_type": "code",
   "execution_count": 8,
   "id": "d44ed1aa",
   "metadata": {},
   "outputs": [],
   "source": [
    "## this function allows the user to look at the single images\n",
    "## select which image you want by changing from first to second, third, etc...\n",
    "\n",
    "first_image = collection.first()\n",
    "\n",
    "vis = {\n",
    "    'bands': ['NIR', 'Red', 'Green'],\n",
    "    'min': 0,\n",
    "    'max': 4000,\n",
    "    'gamma': [1, 1, 1]\n",
    "}\n",
    "\n",
    "Map.addLayer(first_image, vis, 'First image')"
   ]
  },
  {
   "cell_type": "code",
   "execution_count": 24,
   "id": "9afb1128",
   "metadata": {},
   "outputs": [],
   "source": [
    "## defines arguments for animation function parameters\n",
    "\n",
    "#video_args = {\n",
    "#  'dimensions': 768,\n",
    "#  'region': roi,\n",
    "#  'framesPerSecond': 10,\n",
    "#  'bands': ['NIR', 'Red', 'Green'],\n",
    "#  'min': 0,\n",
    "#  'max': 4000,\n",
    "#  'gamma': [1, 1, 1]\n",
    "#}"
   ]
  },
  {
   "cell_type": "code",
   "execution_count": 25,
   "id": "0a711409",
   "metadata": {},
   "outputs": [],
   "source": [
    "## defines the directory for downloading the gif\n",
    "\n",
    "#work_dir = os.path.join(os.path.expanduser(\"~\"), 'Downloads')\n",
    "#out_gif = os.path.join(work_dir, \"Codroy_Landsat.gif\")"
   ]
  },
  {
   "cell_type": "code",
   "execution_count": 26,
   "id": "487d770f",
   "metadata": {},
   "outputs": [],
   "source": [
    "## downloads the gif\n",
    "\n",
    "#geemap.download_ee_video(collection, video_args, out_gif)"
   ]
  },
  {
   "cell_type": "code",
   "execution_count": null,
   "id": "35bdbae6",
   "metadata": {},
   "outputs": [],
   "source": []
  }
 ],
 "metadata": {
  "kernelspec": {
   "display_name": "Python 3",
   "language": "python",
   "name": "python3"
  },
  "language_info": {
   "codemirror_mode": {
    "name": "ipython",
    "version": 3
   },
   "file_extension": ".py",
   "mimetype": "text/x-python",
   "name": "python",
   "nbconvert_exporter": "python",
   "pygments_lexer": "ipython3",
   "version": "3.9.4"
  }
 },
 "nbformat": 4,
 "nbformat_minor": 5
}
