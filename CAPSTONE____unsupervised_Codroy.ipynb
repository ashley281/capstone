{
 "cells": [
  {
   "cell_type": "code",
   "execution_count": 1,
   "id": "12b11f7a",
   "metadata": {},
   "outputs": [],
   "source": [
    "## this workflow follows the tutorial published by Qiusheng Wu, Assistant Professor of Geography at the University of Tennessee, Knoxville\n",
    "\n",
    "## https://github.com/giswqs/geemap\n",
    "## https://www.youtube.com/watch?v=k9MEy2awVJQ&list=PLAxJ4-o7ZoPccOFv1dCwvGI6TYnirRTg3&index=33&ab_channel=QiushengWuQiushengWu"
   ]
  },
  {
   "cell_type": "code",
   "execution_count": null,
   "id": "94672a1a",
   "metadata": {},
   "outputs": [],
   "source": [
    "## imports Earth Engine library\n",
    "import os\n",
    "import ee"
   ]
  },
  {
   "cell_type": "code",
   "execution_count": 2,
   "id": "470eab03",
   "metadata": {},
   "outputs": [],
   "source": [
    "## imports geemap package\n",
    "\n",
    "import geemap"
   ]
  },
  {
   "cell_type": "code",
   "execution_count": 3,
   "id": "373808ad",
   "metadata": {},
   "outputs": [
    {
     "data": {
      "application/vnd.jupyter.widget-view+json": {
       "model_id": "bf330d661b534e7cb83b563b2ee59711",
       "version_major": 2,
       "version_minor": 0
      },
      "text/plain": [
       "Map(center=[40, -100], controls=(WidgetControl(options=['position'], widget=HBox(children=(ToggleButton(value=…"
      ]
     },
     "metadata": {},
     "output_type": "display_data"
    }
   ],
   "source": [
    "## creates interactive map\n",
    "\n",
    "Map = geemap.Map()\n",
    "Map"
   ]
  },
  {
   "cell_type": "code",
   "execution_count": 4,
   "id": "216ff446",
   "metadata": {},
   "outputs": [],
   "source": [
    "## defines the point of interest on the map\n",
    "point = ee.Geometry.Point([-59.3, 47.833333])\n",
    "\n",
    "## filters through Landsat image collection using the input parameters\n",
    "## landsat 8 tier 1 surface reflectance data\n",
    "## filters the boundaries of the data by the defined point\n",
    "## selects only images from the selected dates\n",
    "## sorts by cloud cover\n",
    "## selects the first image with the least cloud cover\n",
    "## selects bands 1-7\n",
    "\n",
    "image = ee.ImageCollection('LANDSAT/LC08/C01/T1_SR') \\\n",
    "    .filterBounds(point) \\\n",
    "    .filterDate('2019-01-01', '2019-12-31') \\\n",
    "    .sort('CLOUD_COVER') \\\n",
    "    .first() \\\n",
    "    .select('B[1-7]')                                      \n",
    "\n",
    "\n",
    "## image symbology\n",
    "vis_params = {\n",
    "    'min': 0,\n",
    "    'max': 3000,\n",
    "    'bands': ['B5', 'B4', 'B3']                            ## bands 5, 4, 3\n",
    "}\n",
    "\n",
    "Map.centerObject(point, 8)                                 ## centers the map around the defined point\n",
    "Map.addLayer(image, vis_params, \"Landsat-8\")               ## adds image layer to the map"
   ]
  },
  {
   "cell_type": "code",
   "execution_count": 5,
   "id": "bb2b8c5a",
   "metadata": {},
   "outputs": [
    {
     "data": {
      "text/plain": [
       "{'CLOUD_COVER': 0.07,\n",
       " 'CLOUD_COVER_LAND': 0.23,\n",
       " 'EARTH_SUN_DISTANCE': 0.998913,\n",
       " 'ESPA_VERSION': '2_23_0_1b',\n",
       " 'GEOMETRIC_RMSE_MODEL': 6.004,\n",
       " 'GEOMETRIC_RMSE_MODEL_X': 4.353,\n",
       " 'GEOMETRIC_RMSE_MODEL_Y': 4.135,\n",
       " 'IMAGE_DATE': '2019-10-09',\n",
       " 'IMAGE_QUALITY_OLI': 9,\n",
       " 'IMAGE_QUALITY_TIRS': 9,\n",
       " 'LANDSAT_ID': 'LC08_L1TP_005027_20191009_20191018_01_T1',\n",
       " 'LEVEL1_PRODUCTION_DATE': 1571411851000,\n",
       " 'NOMINAL_SCALE': 30,\n",
       " 'PIXEL_QA_VERSION': 'generate_pixel_qa_1.6.0',\n",
       " 'SATELLITE': 'LANDSAT_8',\n",
       " 'SENSING_TIME': '2019-10-09T14:42:38.3008550Z',\n",
       " 'SOLAR_AZIMUTH_ANGLE': 162.203156,\n",
       " 'SOLAR_ZENITH_ANGLE': 55.285503,\n",
       " 'SR_APP_VERSION': 'LaSRC_1.3.0',\n",
       " 'WRS_PATH': 5,\n",
       " 'WRS_ROW': 27,\n",
       " 'system:asset_size': '376.186106 MB',\n",
       " 'system:band_names': ['B1', 'B2', 'B3', 'B4', 'B5', 'B6', 'B7'],\n",
       " 'system:id': 'LANDSAT/LC08/C01/T1_SR/LC08_005027_20191009',\n",
       " 'system:index': 'LC08_005027_20191009',\n",
       " 'system:time_end': '2019-10-09 14:42:38',\n",
       " 'system:time_start': '2019-10-09 14:42:38',\n",
       " 'system:version': 1571739639500323}"
      ]
     },
     "execution_count": 5,
     "metadata": {},
     "output_type": "execute_result"
    }
   ],
   "source": [
    "## populates image metadata\n",
    "\n",
    "props = geemap.image_props(image)\n",
    "props.getInfo()"
   ]
  },
  {
   "cell_type": "code",
   "execution_count": 6,
   "id": "538718a3",
   "metadata": {},
   "outputs": [
    {
     "data": {
      "text/plain": [
       "'2019-10-09'"
      ]
     },
     "execution_count": 6,
     "metadata": {},
     "output_type": "execute_result"
    }
   ],
   "source": [
    "## get image date (also in metadata)\n",
    "\n",
    "props.get('IMAGE_DATE').getInfo()"
   ]
  },
  {
   "cell_type": "code",
   "execution_count": 7,
   "id": "6c461c38",
   "metadata": {},
   "outputs": [
    {
     "data": {
      "text/plain": [
       "0.07"
      ]
     },
     "execution_count": 7,
     "metadata": {},
     "output_type": "execute_result"
    }
   ],
   "source": [
    "## get cloud cover info (also in metadata)\n",
    "\n",
    "props.get('CLOUD_COVER').getInfo()"
   ]
  },
  {
   "cell_type": "code",
   "execution_count": 8,
   "id": "11b4afde",
   "metadata": {},
   "outputs": [],
   "source": [
    "## draw a polygon on the map to use for the training dataset\n",
    "## this is not necessary, and can be left to default. will take samples from the entire image if left blank\n",
    "\n",
    "region = Map.user_roi"
   ]
  },
  {
   "cell_type": "code",
   "execution_count": 9,
   "id": "b3902b0a",
   "metadata": {},
   "outputs": [
    {
     "data": {
      "application/vnd.jupyter.widget-view+json": {
       "model_id": "bf330d661b534e7cb83b563b2ee59711",
       "version_major": 2,
       "version_minor": 0
      },
      "text/plain": [
       "Map(bottom=23127.0, center=[47.83333300000001, -59.300000000000004], controls=(WidgetControl(options=['positio…"
      ]
     },
     "metadata": {},
     "output_type": "display_data"
    }
   ],
   "source": [
    "## make training dataset\n",
    "\n",
    "training = image.sample(**{                         ## randomly samples points to be used for training data \n",
    "    'region': region,                               ## user can define a specific region for samples, it will default if not\n",
    "    'scale': 30,                                    ## spatial resolution\n",
    "    'numPixels': 5000,                              ## number of points selected for training\n",
    "    'seed': 0,                                      ## seed is random, selecting 0 will set the number to be the same each time\n",
    "    'geometries': True                              ## Set this to False to ignore points on the map\n",
    "})\n",
    "\n",
    "Map.addLayer(training, {}, 'training', False)       ## adds training sample layer to the map\n",
    "Map"
   ]
  },
  {
   "cell_type": "code",
   "execution_count": 10,
   "id": "ab3de439",
   "metadata": {},
   "outputs": [],
   "source": [
    "## train the clusterer\n",
    "\n",
    "n_clusters = 5                                                       ## specifies the number of clusters (0-4)\n",
    "clusterer = ee.Clusterer.wekaKMeans(n_clusters).train(training)      ## using Weka KMeans method"
   ]
  },
  {
   "cell_type": "code",
   "execution_count": 11,
   "id": "c97cca91",
   "metadata": {},
   "outputs": [
    {
     "data": {
      "application/vnd.jupyter.widget-view+json": {
       "model_id": "bf330d661b534e7cb83b563b2ee59711",
       "version_major": 2,
       "version_minor": 0
      },
      "text/plain": [
       "Map(bottom=23127.0, center=[47.83333300000001, -59.300000000000004], controls=(WidgetControl(options=['positio…"
      ]
     },
     "metadata": {},
     "output_type": "display_data"
    }
   ],
   "source": [
    "# Cluster the input using the trained clusterer.\n",
    "result = image.cluster(clusterer)\n",
    "\n",
    "# # Display the clusters with random colors.\n",
    "Map.addLayer(result.randomVisualizer(), {}, 'clusters')\n",
    "Map"
   ]
  },
  {
   "cell_type": "code",
   "execution_count": 12,
   "id": "0edb2de9",
   "metadata": {},
   "outputs": [
    {
     "data": {
      "application/vnd.jupyter.widget-view+json": {
       "model_id": "bf330d661b534e7cb83b563b2ee59711",
       "version_major": 2,
       "version_minor": 0
      },
      "text/plain": [
       "Map(bottom=23127.0, center=[47.83333300000001, -59.300000000000004], controls=(WidgetControl(options=['positio…"
      ]
     },
     "metadata": {},
     "output_type": "display_data"
    }
   ],
   "source": [
    "## label the clusters\n",
    "\n",
    "legend_keys = ['One', 'Two', 'Three', 'Four', 'ect']          ## keep it general for the first run, rename after running this section\n",
    "legend_colors = ['#8DD3C7', '#FFFFB3', '#BEBADA', '#FB8072', '#80B1D3']\n",
    "\n",
    "## Reclassify the map\n",
    "## goes from labeled as 0-4 to 1-5\n",
    "result = result.remap([0, 1, 2, 3, 4], [1, 2, 3, 4, 5]) ## COMMENT OUT THIS SECTION WHEN RE-RUNNING OR ELSE IT WILL RECLASSIFY THE MAP\n",
    "\n",
    "Map.addLayer(result, {'min': 1, 'max': 5, 'palette': legend_colors}, 'Labelled clusters')     ## adds newly classified layer to map\n",
    "Map.add_legend(legend_keys=legend_keys, legend_colors=legend_colors, position='bottomright')  ## adds legend to map\n",
    "Map"
   ]
  },
  {
   "cell_type": "code",
   "execution_count": 13,
   "id": "b30fe1e4",
   "metadata": {},
   "outputs": [
    {
     "name": "stdout",
     "output_type": "stream",
     "text": [
      "Change layer opacity:\n"
     ]
    },
    {
     "data": {
      "application/vnd.jupyter.widget-view+json": {
       "model_id": "2a1a3a6eb4654de782a0e09f5d696740",
       "version_major": 2,
       "version_minor": 0
      },
      "text/plain": [
       "Box(children=(FloatSlider(value=1.0, description='opacity', max=1.0),))"
      ]
     },
     "metadata": {},
     "output_type": "display_data"
    }
   ],
   "source": [
    "## creates a slider to visualize and compare the results\n",
    "\n",
    "print('Change layer opacity:')\n",
    "cluster_layer = Map.layers[-1]\n",
    "cluster_layer.interact(opacity=(0, 1, 0.1))"
   ]
  },
  {
   "cell_type": "code",
   "execution_count": 14,
   "id": "6c47106c",
   "metadata": {},
   "outputs": [
    {
     "name": "stdout",
     "output_type": "stream",
     "text": [
      "Generating URL ...\n",
      "Downloading data from https://earthengine.googleapis.com/v1alpha/projects/earthengine-legacy/thumbnails/6f641451729667925b4b571f3921714b-97e030fd3318660e26b3476c88865f68:getPixels\n",
      "Please wait ...\n",
      "Data downloaded to C:\\Users\\ashle\\Downloads\\cluster.tif\n"
     ]
    }
   ],
   "source": [
    "## export results to computer\n",
    "\n",
    "import os\n",
    "out_dir = os.path.join(os.path.expanduser('~'), 'Downloads')\n",
    "out_file = os.path.join(out_dir, 'cluster.tif')\n",
    "\n",
    "geemap.ee_export_image(result, filename=out_file, scale=90)"
   ]
  },
  {
   "cell_type": "code",
   "execution_count": 15,
   "id": "40f96944",
   "metadata": {},
   "outputs": [],
   "source": [
    "## sets download directory for HTML file export\n",
    "\n",
    "download_dir = os.path.join(os.path.expanduser('~'), 'Downloads')\n",
    "if not os.path.exists(download_dir):\n",
    "    os.makedirs(download_dir)\n",
    "html_file = os.path.join(download_dir, 'my_map.html')"
   ]
  },
  {
   "cell_type": "code",
   "execution_count": 16,
   "id": "508d265d",
   "metadata": {},
   "outputs": [],
   "source": [
    "## save as HTML file\n",
    "\n",
    "Map.to_html(outfile=html_file, title='Unsupervised Classification', width='100%', height='880px')"
   ]
  },
  {
   "cell_type": "code",
   "execution_count": null,
   "id": "acc27177",
   "metadata": {},
   "outputs": [],
   "source": []
  }
 ],
 "metadata": {
  "kernelspec": {
   "display_name": "Python 3",
   "language": "python",
   "name": "python3"
  },
  "language_info": {
   "codemirror_mode": {
    "name": "ipython",
    "version": 3
   },
   "file_extension": ".py",
   "mimetype": "text/x-python",
   "name": "python",
   "nbconvert_exporter": "python",
   "pygments_lexer": "ipython3",
   "version": "3.9.4"
  }
 },
 "nbformat": 4,
 "nbformat_minor": 5
}
