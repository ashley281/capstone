{
 "cells": [
  {
   "cell_type": "code",
   "execution_count": 1,
   "id": "02cfb034",
   "metadata": {},
   "outputs": [],
   "source": [
    "## this workflow follows the tutorial published by Qiusheng Wu, Assistant Professor of Geography at the University of Tennessee, Knoxville\n",
    "\n",
    "## https://github.com/giswqs/geemap\n",
    "## https://www.youtube.com/watch?v=0CZ7Aj8hCyo&list=PLAxJ4-o7ZoPccOFv1dCwvGI6TYnirRTg3&index=22&ab_channel=QiushengWuQiushengWu"
   ]
  },
  {
   "cell_type": "code",
   "execution_count": null,
   "id": "05709a6d",
   "metadata": {},
   "outputs": [],
   "source": [
    "## import Earth Engine API & GEEMap packages\n",
    "\n",
    "import os\n",
    "import ee\n",
    "import geemap"
   ]
  },
  {
   "cell_type": "code",
   "execution_count": 2,
   "id": "9c38fe46",
   "metadata": {},
   "outputs": [
    {
     "data": {
      "application/vnd.jupyter.widget-view+json": {
       "model_id": "69292fecab68477486cf073fdab7e27c",
       "version_major": 2,
       "version_minor": 0
      },
      "text/plain": [
       "Map(center=[40, -100], controls=(WidgetControl(options=['position'], widget=HBox(children=(ToggleButton(value=…"
      ]
     },
     "metadata": {},
     "output_type": "display_data"
    }
   ],
   "source": [
    "## create interactive GEEMap \n",
    "## create polygon of designated AOI\n",
    "\n",
    "Map = geemap.Map()\n",
    "Map"
   ]
  },
  {
   "cell_type": "code",
   "execution_count": 11,
   "id": "11062033",
   "metadata": {},
   "outputs": [],
   "source": [
    "## defines the polygon created in the step above as the region to be used\n",
    "\n",
    "region = Map.draw_last_feature"
   ]
  },
  {
   "cell_type": "code",
   "execution_count": 12,
   "id": "ec5d4715",
   "metadata": {},
   "outputs": [],
   "source": [
    "## defines the ROI if there is nothing drawn on the map\n",
    "\n",
    "if region is not None:\n",
    "    roi = region.geometry()\n",
    "else: \n",
    "    roi = ee.Geometry.Polygon(\n",
    "        [[[-59.42848205566407, 47.766560801839226], \n",
    "          [-59.073486328125, 47.766560801839226], \n",
    "          [-59.073486328125, 47.93014620109099], \n",
    "          [-59.42848205566407, 47.93014620109099], \n",
    "          [-59.42848205566407, 47.766560801839226]]], None, False)"
   ]
  },
  {
   "cell_type": "code",
   "execution_count": 13,
   "id": "99e44197",
   "metadata": {},
   "outputs": [
    {
     "name": "stdout",
     "output_type": "stream",
     "text": [
      "{'geodesic': False, 'type': 'Polygon', 'coordinates': [[[-59.42848205566407, 47.766560801839226], [-59.073486328125, 47.766560801839226], [-59.073486328125, 47.93014620109099], [-59.42848205566407, 47.93014620109099], [-59.42848205566407, 47.766560801839226]]]}\n"
     ]
    }
   ],
   "source": [
    "## metadata of ROI\n",
    "\n",
    "print(roi.getInfo())"
   ]
  },
  {
   "cell_type": "code",
   "execution_count": 14,
   "id": "0c8e9e09",
   "metadata": {},
   "outputs": [],
   "source": [
    "## retrieves landsat data from GEE from 1984- today\n",
    "\n",
    "landsat_ts = geemap.landsat_timeseries(roi=roi, start_year=1984, end_year=2019, start_date='01-01', end_date='12-31')"
   ]
  },
  {
   "cell_type": "code",
   "execution_count": 15,
   "id": "7e14dbca",
   "metadata": {},
   "outputs": [
    {
     "name": "stdout",
     "output_type": "stream",
     "text": [
      "['Landsat 1984', 'Landsat 1985', 'Landsat 1986', 'Landsat 1987', 'Landsat 1988', 'Landsat 1989', 'Landsat 1990', 'Landsat 1991', 'Landsat 1992', 'Landsat 1993', 'Landsat 1994', 'Landsat 1995', 'Landsat 1996', 'Landsat 1997', 'Landsat 1998', 'Landsat 1999', 'Landsat 2000', 'Landsat 2001', 'Landsat 2002', 'Landsat 2003', 'Landsat 2004', 'Landsat 2005', 'Landsat 2006', 'Landsat 2007', 'Landsat 2008', 'Landsat 2009', 'Landsat 2010', 'Landsat 2011', 'Landsat 2012', 'Landsat 2013', 'Landsat 2014', 'Landsat 2015', 'Landsat 2016', 'Landsat 2017', 'Landsat 2018', 'Landsat 2019']\n"
     ]
    }
   ],
   "source": [
    "## converts layer names to a string\n",
    "\n",
    "layer_names = ['Landsat ' + str(year) for year in range(1984, 2020)]\n",
    "print(layer_names)"
   ]
  },
  {
   "cell_type": "code",
   "execution_count": 16,
   "id": "537b8a04",
   "metadata": {},
   "outputs": [],
   "source": [
    "## defines the parameters extracted from the Landsat data using a true color composite\n",
    "\n",
    "landsat_vis = {\n",
    "    'min': 0,\n",
    "    'max': 4000,\n",
    "    'gamma': [1, 1, 1],\n",
    "    'bands': ['Red', 'Green', 'Blue']}"
   ]
  },
  {
   "cell_type": "code",
   "execution_count": 9,
   "id": "a3a2b711",
   "metadata": {},
   "outputs": [
    {
     "data": {
      "application/vnd.jupyter.widget-view+json": {
       "model_id": "51bcdc718f04414daf33f1ac965f8b7f",
       "version_major": 2,
       "version_minor": 0
      },
      "text/plain": [
       "Map(center=[47.84835752606364, -59.25098419189503], controls=(WidgetControl(options=['position'], widget=Dropd…"
      ]
     },
     "metadata": {},
     "output_type": "display_data"
    }
   ],
   "source": [
    "## displays the map with the inspector tool\n",
    "\n",
    "Map = geemap.Map()\n",
    "Map.ts_inspector(left_ts=landsat_ts, right_ts=landsat_ts, left_names=layer_names, right_names=layer_names, left_vis=landsat_vis, right_vis=landsat_vis)\n",
    "Map.centerObject(roi, zoom=8)\n",
    "Map"
   ]
  },
  {
   "cell_type": "code",
   "execution_count": 10,
   "id": "6970fe45",
   "metadata": {},
   "outputs": [],
   "source": [
    "## sets download directory for HTML file export\n",
    "\n",
    "download_dir = os.path.join(os.path.expanduser('~'), 'Downloads')\n",
    "if not os.path.exists(download_dir):\n",
    "    os.makedirs(download_dir)\n",
    "html_file = os.path.join(download_dir, 'timelapse_inspector.html')\n",
    "\n",
    "## save as HTML file\n",
    "\n",
    "Map.to_html(outfile=html_file, title='Timelapse', width='100%', height='880px')"
   ]
  },
  {
   "cell_type": "code",
   "execution_count": null,
   "id": "6a62baf2",
   "metadata": {},
   "outputs": [],
   "source": []
  }
 ],
 "metadata": {
  "kernelspec": {
   "display_name": "Python 3",
   "language": "python",
   "name": "python3"
  },
  "language_info": {
   "codemirror_mode": {
    "name": "ipython",
    "version": 3
   },
   "file_extension": ".py",
   "mimetype": "text/x-python",
   "name": "python",
   "nbconvert_exporter": "python",
   "pygments_lexer": "ipython3",
   "version": "3.9.4"
  }
 },
 "nbformat": 4,
 "nbformat_minor": 5
}
