{
 "cells": [
  {
   "cell_type": "code",
   "execution_count": 1,
   "id": "bedec230",
   "metadata": {
    "colab": {
     "base_uri": "https://localhost:8080/"
    },
    "executionInfo": {
     "elapsed": 18040,
     "status": "ok",
     "timestamp": 1621617363482,
     "user": {
      "displayName": "Mort Canty",
      "photoUrl": "https://lh3.googleusercontent.com/a-/AOh14Gic8wrtuzbljC46e5I9nhzEOgqYcVXCDqSxyrEQ1Q=s64",
      "userId": "11792105515663483880"
     },
     "user_tz": -120
    },
    "id": "bedec230",
    "outputId": "3a5e38ab-b4d8-45cb-a5c8-d22e2537dd41"
   },
   "outputs": [
    {
     "data": {
      "text/html": [
       "<p>To authorize access needed by Earth Engine, open the following\n",
       "        URL in a web browser and follow the instructions:</p>\n",
       "        <p><a href=https://accounts.google.com/o/oauth2/auth?client_id=517222506229-vsmmajv00ul0bs7p89v5m89qs8eb9359.apps.googleusercontent.com&scope=https%3A%2F%2Fwww.googleapis.com%2Fauth%2Fearthengine+https%3A%2F%2Fwww.googleapis.com%2Fauth%2Fdevstorage.full_control&redirect_uri=urn%3Aietf%3Awg%3Aoauth%3A2.0%3Aoob&response_type=code&code_challenge=8kYjSwe2esyr8cGf_8n_uJyl2wMKgLZvKfeAv0RgUNE&code_challenge_method=S256>https://accounts.google.com/o/oauth2/auth?client_id=517222506229-vsmmajv00ul0bs7p89v5m89qs8eb9359.apps.googleusercontent.com&scope=https%3A%2F%2Fwww.googleapis.com%2Fauth%2Fearthengine+https%3A%2F%2Fwww.googleapis.com%2Fauth%2Fdevstorage.full_control&redirect_uri=urn%3Aietf%3Awg%3Aoauth%3A2.0%3Aoob&response_type=code&code_challenge=8kYjSwe2esyr8cGf_8n_uJyl2wMKgLZvKfeAv0RgUNE&code_challenge_method=S256</a></p>\n",
       "        <p>The authorization workflow will generate a code, which you\n",
       "        should paste in the box below</p>\n",
       "        "
      ],
      "text/plain": [
       "<IPython.core.display.HTML object>"
      ]
     },
     "metadata": {},
     "output_type": "display_data"
    },
    {
     "name": "stdout",
     "output_type": "stream",
     "text": [
      "Enter verification code: 4/1AY0e-g6JNRRD2a9GPKsH1ATZE7uMyCWXpNjJEA4jDWKoHjxNyReQag13MG4\n",
      "\n",
      "Successfully saved authorization token.\n"
     ]
    }
   ],
   "source": [
    "## import Earth Engine API\n",
    "\n",
    "import ee\n",
    "\n",
    "ee.Authenticate()\n",
    "\n",
    "ee.Initialize()"
   ]
  },
  {
   "cell_type": "code",
   "execution_count": 35,
   "id": "5dbe457b",
   "metadata": {
    "id": "5dbe457b"
   },
   "outputs": [],
   "source": [
    "## imports maptlotlib and numpy\n",
    "\n",
    "import matplotlib.pyplot as plt\n",
    "import numpy as np\n",
    "from scipy.stats import norm, gamma, f, chi2\n",
    "import IPython.display as disp\n",
    "%matplotlib inline"
   ]
  },
  {
   "cell_type": "code",
   "execution_count": 50,
   "id": "7ffe6590",
   "metadata": {
    "id": "7ffe6590"
   },
   "outputs": [],
   "source": [
    "import os"
   ]
  },
  {
   "cell_type": "code",
   "execution_count": 37,
   "id": "ea3ffd0a",
   "metadata": {
    "id": "ea3ffd0a"
   },
   "outputs": [],
   "source": [
    "## import folium\n",
    "\n",
    "import folium\n",
    "\n",
    "# Define a method for displaying Earth Engine image tiles to folium map.\n",
    "def add_ee_layer(self, ee_image_object, vis_params, name):\n",
    "  map_id_dict = ee.Image(ee_image_object).getMapId(vis_params)\n",
    "  folium.raster_layers.TileLayer(\n",
    "    tiles = map_id_dict['tile_fetcher'].url_format,\n",
    "    attr = 'Map Data &copy; <a href=\"https://earthengine.google.com/\">Google Earth Engine</a>',\n",
    "    name = name,\n",
    "    overlay = True,\n",
    "    control = True\n",
    "  ).add_to(self)\n",
    "\n",
    "# Add EE drawing method to folium.\n",
    "folium.Map.add_ee_layer = add_ee_layer"
   ]
  },
  {
   "cell_type": "code",
   "execution_count": 38,
   "id": "ee5a70df",
   "metadata": {
    "executionInfo": {
     "elapsed": 346,
     "status": "ok",
     "timestamp": 1621619860417,
     "user": {
      "displayName": "Mort Canty",
      "photoUrl": "https://lh3.googleusercontent.com/a-/AOh14Gic8wrtuzbljC46e5I9nhzEOgqYcVXCDqSxyrEQ1Q=s64",
      "userId": "11792105515663483880"
     },
     "user_tz": -120
    },
    "id": "ee5a70df"
   },
   "outputs": [],
   "source": [
    "## define coordinates of AOI\n",
    "geoJSON = {\n",
    "  \"type\": \"FeatureCollection\",\n",
    "  \"features\": [\n",
    "    {\n",
    "      \"type\": \"Feature\",\n",
    "      \"properties\": {},\n",
    "      \"geometry\": {\n",
    "        \"type\": \"Polygon\",\n",
    "        \"coordinates\": [\n",
    "          [\n",
    "            [\n",
    "              -59.448394775390625,\n",
    "              47.755944512091666\n",
    "            ],\n",
    "            [\n",
    "              -59.07485961914062,\n",
    "              47.755944512091666\n",
    "            ],\n",
    "            [\n",
    "              -59.07485961914062,\n",
    "              47.938426929481054\n",
    "            ],\n",
    "            [\n",
    "              -59.448394775390625,\n",
    "              47.938426929481054\n",
    "            ],\n",
    "            [\n",
    "              -59.448394775390625,\n",
    "              47.755944512091666\n",
    "            ]\n",
    "          ]\n",
    "        ]\n",
    "      }\n",
    "    }\n",
    "  ]\n",
    "}\n",
    "coords = geoJSON['features'][0]['geometry']['coordinates']\n",
    "aoi = ee.Geometry.Polygon(coords)\n",
    "geoJSON = {\n",
    "  \"type\": \"FeatureCollection\",\n",
    "  \"features\": [\n",
    "    {\n",
    "      \"type\": \"Feature\",\n",
    "      \"properties\": {},\n",
    "      \"geometry\": {\n",
    "        \"type\": \"Polygon\",\n",
    "        \"coordinates\": [\n",
    "          [\n",
    "            [\n",
    "              -59.360504150390625,\n",
    "              47.88411800496604\n",
    "            ],\n",
    "            [\n",
    "              -59.31243896484375,\n",
    "              47.88411800496604\n",
    "            ],\n",
    "            [\n",
    "              -59.31243896484375,\n",
    "              47.9062166475376\n",
    "            ],\n",
    "            [\n",
    "              -59.360504150390625,\n",
    "              47.9062166475376\n",
    "            ],\n",
    "            [\n",
    "              -59.360504150390625,\n",
    "              47.88411800496604\n",
    "            ]\n",
    "          ]\n",
    "        ]\n",
    "      }\n",
    "    }\n",
    "  ]\n",
    "}\n",
    "coords = geoJSON['features'][0]['geometry']['coordinates']\n",
    "aoi_sub = ee.Geometry.Polygon(coords)"
   ]
  },
  {
   "cell_type": "code",
   "execution_count": 39,
   "id": "dab2ea69",
   "metadata": {
    "id": "dab2ea69"
   },
   "outputs": [],
   "source": [
    "## filter through S1 imagery to collect 2 images from the designated period of time\n",
    "\n",
    "im_coll = (ee.ImageCollection('COPERNICUS/S1_GRD_FLOAT')\n",
    "                .filterBounds(aoi)\n",
    "                .filterDate(ee.Date('2019-08-01'),ee.Date('2020-08-31'))\n",
    "                .filter(ee.Filter.eq('orbitProperties_pass', 'ASCENDING'))\n",
    "               .filter(ee.Filter.eq('relativeOrbitNumber_start', 47))\n",
    "                .sort('system:time_start'))"
   ]
  },
  {
   "cell_type": "code",
   "execution_count": 40,
   "id": "eca4111e",
   "metadata": {
    "colab": {
     "base_uri": "https://localhost:8080/"
    },
    "executionInfo": {
     "elapsed": 186,
     "status": "ok",
     "timestamp": 1621617397627,
     "user": {
      "displayName": "Mort Canty",
      "photoUrl": "https://lh3.googleusercontent.com/a-/AOh14Gic8wrtuzbljC46e5I9nhzEOgqYcVXCDqSxyrEQ1Q=s64",
      "userId": "11792105515663483880"
     },
     "user_tz": -120
    },
    "id": "eca4111e",
    "outputId": "49ecae36-795f-4d97-c585-6a7a2c891afc"
   },
   "outputs": [
    {
     "data": {
      "text/plain": [
       "['08/07/19',\n",
       " '08/19/19',\n",
       " '09/12/19',\n",
       " '09/24/19',\n",
       " '10/06/19',\n",
       " '10/18/19',\n",
       " '10/30/19',\n",
       " '11/11/19',\n",
       " '11/23/19',\n",
       " '12/05/19',\n",
       " '12/17/19',\n",
       " '12/29/19',\n",
       " '01/10/20',\n",
       " '01/22/20',\n",
       " '02/03/20',\n",
       " '02/15/20',\n",
       " '02/27/20',\n",
       " '03/10/20',\n",
       " '03/22/20',\n",
       " '04/03/20',\n",
       " '04/15/20',\n",
       " '04/27/20',\n",
       " '05/09/20',\n",
       " '05/21/20',\n",
       " '06/02/20',\n",
       " '06/14/20',\n",
       " '06/26/20',\n",
       " '07/08/20',\n",
       " '07/20/20',\n",
       " '08/01/20',\n",
       " '08/13/20',\n",
       " '08/25/20']"
      ]
     },
     "execution_count": 40,
     "metadata": {},
     "output_type": "execute_result"
    }
   ],
   "source": [
    "## get info of the acquisition times\n",
    "\n",
    "import time\n",
    "acq_times = im_coll.aggregate_array('system:time_start').getInfo()\n",
    "[time.strftime('%x', time.gmtime(acq_time/1000)) for acq_time in acq_times]"
   ]
  },
  {
   "cell_type": "code",
   "execution_count": 41,
   "id": "c9642c0b",
   "metadata": {
    "executionInfo": {
     "elapsed": 197,
     "status": "ok",
     "timestamp": 1621619870818,
     "user": {
      "displayName": "Mort Canty",
      "photoUrl": "https://lh3.googleusercontent.com/a-/AOh14Gic8wrtuzbljC46e5I9nhzEOgqYcVXCDqSxyrEQ1Q=s64",
      "userId": "11792105515663483880"
     },
     "user_tz": -120
    },
    "id": "c9642c0b"
   },
   "outputs": [],
   "source": [
    "## selects the first two images and extracts the VV bands\n",
    "\n",
    "im_list = im_coll.toList(im_coll.size())\n",
    "im1 = ee.Image(im_list.get(0)).select('VV').clip(aoi_sub)\n",
    "im2 = ee.Image(im_list.get(1)).select('VV').clip(aoi_sub)"
   ]
  },
  {
   "cell_type": "code",
   "execution_count": 42,
   "id": "24066202",
   "metadata": {
    "colab": {
     "base_uri": "https://localhost:8080/",
     "height": 588
    },
    "executionInfo": {
     "elapsed": 767,
     "status": "ok",
     "timestamp": 1621619874791,
     "user": {
      "displayName": "Mort Canty",
      "photoUrl": "https://lh3.googleusercontent.com/a-/AOh14Gic8wrtuzbljC46e5I9nhzEOgqYcVXCDqSxyrEQ1Q=s64",
      "userId": "11792105515663483880"
     },
     "user_tz": -120
    },
    "id": "24066202",
    "outputId": "8a074d73-7be4-49e9-e5fe-fb517936b5e2"
   },
   "outputs": [
    {
     "data": {
      "text/html": [
       "<img src=\"https://earthengine.googleapis.com/v1alpha/projects/earthengine-legacy/thumbnails/a1f45337dbd4d174293fa04f27287ed5-a12e08469f34c96bd2fd0557fc602c42:getPixels\" width=\"800\"/>"
      ],
      "text/plain": [
       "<IPython.core.display.Image object>"
      ]
     },
     "execution_count": 42,
     "metadata": {},
     "output_type": "execute_result"
    }
   ],
   "source": [
    "ratio = im1.divide(im2)\n",
    "url = ratio.getThumbURL({'min': 0, 'max': 10})\n",
    "disp.Image(url=url, width=800)"
   ]
  },
  {
   "cell_type": "code",
   "execution_count": 43,
   "id": "3344ed1f",
   "metadata": {
    "executionInfo": {
     "elapsed": 512,
     "status": "ok",
     "timestamp": 1621619910082,
     "user": {
      "displayName": "Mort Canty",
      "photoUrl": "https://lh3.googleusercontent.com/a-/AOh14Gic8wrtuzbljC46e5I9nhzEOgqYcVXCDqSxyrEQ1Q=s64",
      "userId": "11792105515663483880"
     },
     "user_tz": -120
    },
    "id": "3344ed1f"
   },
   "outputs": [],
   "source": [
    "## use reducers to calculate the histogram, mean and variance of the ratio image\n",
    "\n",
    "hist = ratio.reduceRegion(ee.Reducer.fixedHistogram(0, 5, 500), aoi_sub).get('VV').getInfo()\n",
    "mean = ratio.reduceRegion(ee.Reducer.mean(), aoi_sub).get('VV').getInfo()\n",
    "variance = ratio.reduceRegion(ee.Reducer.variance(), aoi).get('VV').getInfo()"
   ]
  },
  {
   "cell_type": "code",
   "execution_count": 44,
   "id": "d5ed767e",
   "metadata": {
    "colab": {
     "base_uri": "https://localhost:8080/",
     "height": 265
    },
    "executionInfo": {
     "elapsed": 236,
     "status": "ok",
     "timestamp": 1621619913369,
     "user": {
      "displayName": "Mort Canty",
      "photoUrl": "https://lh3.googleusercontent.com/a-/AOh14Gic8wrtuzbljC46e5I9nhzEOgqYcVXCDqSxyrEQ1Q=s64",
      "userId": "11792105515663483880"
     },
     "user_tz": -120
    },
    "id": "d5ed767e",
    "outputId": "ae8f29b7-f83e-40ed-dfb0-512e0bffe48c"
   },
   "outputs": [
    {
     "data": {
      "image/png": "[encoded data removed]",
      "text/plain": [
       "<Figure size 432x288 with 1 Axes>"
      ]
     },
     "metadata": {
      "needs_background": "light"
     },
     "output_type": "display_data"
    }
   ],
   "source": [
    "## plot the normalized histogram using numpy and matplotlib\n",
    "\n",
    "a = np.array(hist)\n",
    "x = a[:, 0]\n",
    "y = a[:, 1] / np.sum(a[:, 1])\n",
    "plt.grid()\n",
    "plt.plot(x, y, '.')\n",
    "plt.show()"
   ]
  },
  {
   "cell_type": "code",
   "execution_count": 45,
   "id": "1e96e3b2",
   "metadata": {
    "colab": {
     "base_uri": "https://localhost:8080/",
     "height": 265
    },
    "executionInfo": {
     "elapsed": 248,
     "status": "ok",
     "timestamp": 1621619917472,
     "user": {
      "displayName": "Mort Canty",
      "photoUrl": "https://lh3.googleusercontent.com/a-/AOh14Gic8wrtuzbljC46e5I9nhzEOgqYcVXCDqSxyrEQ1Q=s64",
      "userId": "11792105515663483880"
     },
     "user_tz": -120
    },
    "id": "1e96e3b2",
    "outputId": "9427726d-4bb5-481b-86e5-7ac50ddbd9eb"
   },
   "outputs": [
    {
     "data": {
      "image/png": "[encoded data removed]",
      "text/plain": [
       "<Figure size 432x288 with 1 Axes>"
      ]
     },
     "metadata": {
      "needs_background": "light"
     },
     "output_type": "display_data"
    }
   ],
   "source": [
    "## bin widths are 0.001, divide by 100\n",
    "\n",
    "m = 5\n",
    "plt.grid()\n",
    "plt.plot(x, y, '.', label='data')\n",
    "plt.plot(x, f.pdf(x, 2*m, 2*m) / 100, '-r', label='F-dist')\n",
    "plt.legend()\n",
    "plt.show()"
   ]
  },
  {
   "cell_type": "code",
   "execution_count": 46,
   "id": "f4c5d019",
   "metadata": {
    "colab": {
     "base_uri": "https://localhost:8080/"
    },
    "executionInfo": {
     "elapsed": 224,
     "status": "ok",
     "timestamp": 1621619922905,
     "user": {
      "displayName": "Mort Canty",
      "photoUrl": "https://lh3.googleusercontent.com/a-/AOh14Gic8wrtuzbljC46e5I9nhzEOgqYcVXCDqSxyrEQ1Q=s64",
      "userId": "11792105515663483880"
     },
     "user_tz": -120
    },
    "id": "f4c5d019",
    "outputId": "cfb5177a-1907-4559-dd96-8c884a57a7fc"
   },
   "outputs": [
    {
     "name": "stdout",
     "output_type": "stream",
     "text": [
      "1.0400393870790539 1.25\n",
      "0.4705471781163698 0.9375\n"
     ]
    }
   ],
   "source": [
    "## verify the mean and variance\n",
    "\n",
    "print(mean, m/(m-1))\n",
    "print(variance, m*(2*m-1)/(m-1)**2/(m-2))"
   ]
  },
  {
   "cell_type": "code",
   "execution_count": 47,
   "id": "bc8d535c",
   "metadata": {
    "colab": {
     "base_uri": "https://localhost:8080/",
     "height": 952
    },
    "executionInfo": {
     "elapsed": 544,
     "status": "ok",
     "timestamp": 1621621420961,
     "user": {
      "displayName": "Mort Canty",
      "photoUrl": "https://lh3.googleusercontent.com/a-/AOh14Gic8wrtuzbljC46e5I9nhzEOgqYcVXCDqSxyrEQ1Q=s64",
      "userId": "11792105515663483880"
     },
     "user_tz": -120
    },
    "id": "bc8d535c",
    "outputId": "cdc5dfee-60eb-496d-abf7-4d2fdf378192"
   },
   "outputs": [
    {
     "data": {
      "text/html": [
       "<div style=\"width:100%;\"><div style=\"position:relative;width:100%;height:0;padding-bottom:60%;\"><span style=\"color:#565656\">Make this Notebook Trusted to load map: File -> Trust Notebook</span><iframe src=\"about:blank\" style=\"position:absolute;width:100%;height:100%;left:0;top:0;border:none !important;\" data-html=%3C%21DOCTYPE%20html%3E%0A%3Chead%3E%20%20%20%20%0A%20%20%20%20%3Cmeta%20http-equiv%3D%22content-type%22%20content%3D%22text/html%3B%20charset%3DUTF-8%22%20/%3E%0A%20%20%20%20%0A%20%20%20%20%20%20%20%20%3Cscript%3E%0A%20%20%20%20%20%20%20%20%20%20%20%20L_NO_TOUCH%20%3D%20false%3B%0A%20%20%20%20%20%20%20%20%20%20%20%20L_DISABLE_3D%20%3D%20false%3B%0A%20%20%20%20%20%20%20%20%3C/script%3E%0A%20%20%20%20%0A%20%20%20%20%3Cstyle%3Ehtml%2C%20body%20%7Bwidth%3A%20100%25%3Bheight%3A%20100%25%3Bmargin%3A%200%3Bpadding%3A%200%3B%7D%3C/style%3E%0A%20%20%20%20%3Cstyle%3E%23map%20%7Bposition%3Aabsolute%3Btop%3A0%3Bbottom%3A0%3Bright%3A0%3Bleft%3A0%3B%7D%3C/style%3E%0A%20%20%20%20%3Cscript%20src%3D%22https%3A//cdn.jsdelivr.net/npm/leaflet%401.6.0/dist/leaflet.js%22%3E%3C/script%3E%0A%20%20%20%20%3Cscript%20src%3D%22https%3A//code.jquery.com/jquery-1.12.4.min.js%22%3E%3C/script%3E%0A%20%20%20%20%3Cscript%20src%3D%22https%3A//maxcdn.bootstrapcdn.com/bootstrap/3.2.0/js/bootstrap.min.js%22%3E%3C/script%3E%0A%20%20%20%20%3Cscript%20src%3D%22https%3A//cdnjs.cloudflare.com/ajax/libs/Leaflet.awesome-markers/2.0.2/leaflet.awesome-markers.js%22%3E%3C/script%3E%0A%20%20%20%20%3Clink%20rel%3D%22stylesheet%22%20href%3D%22https%3A//cdn.jsdelivr.net/npm/leaflet%401.6.0/dist/leaflet.css%22/%3E%0A%20%20%20%20%3Clink%20rel%3D%22stylesheet%22%20href%3D%22https%3A//maxcdn.bootstrapcdn.com/bootstrap/3.2.0/css/bootstrap.min.css%22/%3E%0A%20%20%20%20%3Clink%20rel%3D%22stylesheet%22%20href%3D%22https%3A//maxcdn.bootstrapcdn.com/bootstrap/3.2.0/css/bootstrap-theme.min.css%22/%3E%0A%20%20%20%20%3Clink%20rel%3D%22stylesheet%22%20href%3D%22https%3A//maxcdn.bootstrapcdn.com/font-awesome/4.6.3/css/font-awesome.min.css%22/%3E%0A%20%20%20%20%3Clink%20rel%3D%22stylesheet%22%20href%3D%22https%3A//cdnjs.cloudflare.com/ajax/libs/Leaflet.awesome-markers/2.0.2/leaflet.awesome-markers.css%22/%3E%0A%20%20%20%20%3Clink%20rel%3D%22stylesheet%22%20href%3D%22https%3A//cdn.jsdelivr.net/gh/python-visualization/folium/folium/templates/leaflet.awesome.rotate.min.css%22/%3E%0A%20%20%20%20%0A%20%20%20%20%20%20%20%20%20%20%20%20%3Cmeta%20name%3D%22viewport%22%20content%3D%22width%3Ddevice-width%2C%0A%20%20%20%20%20%20%20%20%20%20%20%20%20%20%20%20initial-scale%3D1.0%2C%20maximum-scale%3D1.0%2C%20user-scalable%3Dno%22%20/%3E%0A%20%20%20%20%20%20%20%20%20%20%20%20%3Cstyle%3E%0A%20%20%20%20%20%20%20%20%20%20%20%20%20%20%20%20%23map_277e21293f12440eb443bf70199de08b%20%7B%0A%20%20%20%20%20%20%20%20%20%20%20%20%20%20%20%20%20%20%20%20position%3A%20relative%3B%0A%20%20%20%20%20%20%20%20%20%20%20%20%20%20%20%20%20%20%20%20width%3A%20100.0%25%3B%0A%20%20%20%20%20%20%20%20%20%20%20%20%20%20%20%20%20%20%20%20height%3A%20100.0%25%3B%0A%20%20%20%20%20%20%20%20%20%20%20%20%20%20%20%20%20%20%20%20left%3A%200.0%25%3B%0A%20%20%20%20%20%20%20%20%20%20%20%20%20%20%20%20%20%20%20%20top%3A%200.0%25%3B%0A%20%20%20%20%20%20%20%20%20%20%20%20%20%20%20%20%7D%0A%20%20%20%20%20%20%20%20%20%20%20%20%3C/style%3E%0A%20%20%20%20%20%20%20%20%0A%3C/head%3E%0A%3Cbody%3E%20%20%20%20%0A%20%20%20%20%0A%20%20%20%20%20%20%20%20%20%20%20%20%3Cdiv%20class%3D%22folium-map%22%20id%3D%22map_277e21293f12440eb443bf70199de08b%22%20%3E%3C/div%3E%0A%20%20%20%20%20%20%20%20%0A%3C/body%3E%0A%3Cscript%3E%20%20%20%20%0A%20%20%20%20%0A%20%20%20%20%20%20%20%20%20%20%20%20var%20map_277e21293f12440eb443bf70199de08b%20%3D%20L.map%28%0A%20%20%20%20%20%20%20%20%20%20%20%20%20%20%20%20%22map_277e21293f12440eb443bf70199de08b%22%2C%0A%20%20%20%20%20%20%20%20%20%20%20%20%20%20%20%20%7B%0A%20%20%20%20%20%20%20%20%20%20%20%20%20%20%20%20%20%20%20%20center%3A%20%5B47.84728366902794%2C%20-59.2616271972659%5D%2C%0A%20%20%20%20%20%20%20%20%20%20%20%20%20%20%20%20%20%20%20%20crs%3A%20L.CRS.EPSG3857%2C%0A%20%20%20%20%20%20%20%20%20%20%20%20%20%20%20%20%20%20%20%20zoom%3A%2012%2C%0A%20%20%20%20%20%20%20%20%20%20%20%20%20%20%20%20%20%20%20%20zoomControl%3A%20true%2C%0A%20%20%20%20%20%20%20%20%20%20%20%20%20%20%20%20%20%20%20%20preferCanvas%3A%20false%2C%0A%20%20%20%20%20%20%20%20%20%20%20%20%20%20%20%20%7D%0A%20%20%20%20%20%20%20%20%20%20%20%20%29%3B%0A%0A%20%20%20%20%20%20%20%20%20%20%20%20%0A%0A%20%20%20%20%20%20%20%20%0A%20%20%20%20%0A%20%20%20%20%20%20%20%20%20%20%20%20var%20tile_layer_1cf9ce8a13f74808b9608c25486f1c46%20%3D%20L.tileLayer%28%0A%20%20%20%20%20%20%20%20%20%20%20%20%20%20%20%20%22https%3A//%7Bs%7D.tile.openstreetmap.org/%7Bz%7D/%7Bx%7D/%7By%7D.png%22%2C%0A%20%20%20%20%20%20%20%20%20%20%20%20%20%20%20%20%7B%22attribution%22%3A%20%22Data%20by%20%5Cu0026copy%3B%20%5Cu003ca%20href%3D%5C%22http%3A//openstreetmap.org%5C%22%5Cu003eOpenStreetMap%5Cu003c/a%5Cu003e%2C%20under%20%5Cu003ca%20href%3D%5C%22http%3A//www.openstreetmap.org/copyright%5C%22%5Cu003eODbL%5Cu003c/a%5Cu003e.%22%2C%20%22detectRetina%22%3A%20false%2C%20%22maxNativeZoom%22%3A%2018%2C%20%22maxZoom%22%3A%2018%2C%20%22minZoom%22%3A%200%2C%20%22noWrap%22%3A%20false%2C%20%22opacity%22%3A%201%2C%20%22subdomains%22%3A%20%22abc%22%2C%20%22tms%22%3A%20false%7D%0A%20%20%20%20%20%20%20%20%20%20%20%20%29.addTo%28map_277e21293f12440eb443bf70199de08b%29%3B%0A%20%20%20%20%20%20%20%20%0A%20%20%20%20%0A%20%20%20%20%20%20%20%20%20%20%20%20var%20tile_layer_b1c5ef328cb24b9d838ec3c74c876495%20%3D%20L.tileLayer%28%0A%20%20%20%20%20%20%20%20%20%20%20%20%20%20%20%20%22https%3A//earthengine.googleapis.com/v1alpha/projects/earthengine-legacy/maps/9747180292693d056a80173307b523a5-93bc13c7e5a10070da3296fed6cb023a/tiles/%7Bz%7D/%7Bx%7D/%7By%7D%22%2C%0A%20%20%20%20%20%20%20%20%20%20%20%20%20%20%20%20%7B%22attribution%22%3A%20%22Map%20Data%20%5Cu0026copy%3B%20%5Cu003ca%20href%3D%5C%22https%3A//earthengine.google.com/%5C%22%5Cu003eGoogle%20Earth%20Engine%5Cu003c/a%5Cu003e%22%2C%20%22detectRetina%22%3A%20false%2C%20%22maxNativeZoom%22%3A%2018%2C%20%22maxZoom%22%3A%2018%2C%20%22minZoom%22%3A%200%2C%20%22noWrap%22%3A%20false%2C%20%22opacity%22%3A%201%2C%20%22subdomains%22%3A%20%22abc%22%2C%20%22tms%22%3A%20false%7D%0A%20%20%20%20%20%20%20%20%20%20%20%20%29.addTo%28map_277e21293f12440eb443bf70199de08b%29%3B%0A%20%20%20%20%20%20%20%20%0A%20%20%20%20%0A%20%20%20%20%20%20%20%20%20%20%20%20var%20layer_control_dc31f49b24bb42d2831f1e8f151d0736%20%3D%20%7B%0A%20%20%20%20%20%20%20%20%20%20%20%20%20%20%20%20base_layers%20%3A%20%7B%0A%20%20%20%20%20%20%20%20%20%20%20%20%20%20%20%20%20%20%20%20%22openstreetmap%22%20%3A%20tile_layer_1cf9ce8a13f74808b9608c25486f1c46%2C%0A%20%20%20%20%20%20%20%20%20%20%20%20%20%20%20%20%7D%2C%0A%20%20%20%20%20%20%20%20%20%20%20%20%20%20%20%20overlays%20%3A%20%20%7B%0A%20%20%20%20%20%20%20%20%20%20%20%20%20%20%20%20%20%20%20%20%22Ratio%22%20%3A%20tile_layer_b1c5ef328cb24b9d838ec3c74c876495%2C%0A%20%20%20%20%20%20%20%20%20%20%20%20%20%20%20%20%7D%2C%0A%20%20%20%20%20%20%20%20%20%20%20%20%7D%3B%0A%20%20%20%20%20%20%20%20%20%20%20%20L.control.layers%28%0A%20%20%20%20%20%20%20%20%20%20%20%20%20%20%20%20layer_control_dc31f49b24bb42d2831f1e8f151d0736.base_layers%2C%0A%20%20%20%20%20%20%20%20%20%20%20%20%20%20%20%20layer_control_dc31f49b24bb42d2831f1e8f151d0736.overlays%2C%0A%20%20%20%20%20%20%20%20%20%20%20%20%20%20%20%20%7B%22autoZIndex%22%3A%20true%2C%20%22collapsed%22%3A%20true%2C%20%22position%22%3A%20%22topright%22%7D%0A%20%20%20%20%20%20%20%20%20%20%20%20%29.addTo%28map_277e21293f12440eb443bf70199de08b%29%3B%0A%20%20%20%20%20%20%20%20%0A%3C/script%3E onload=\"this.contentDocument.open();this.contentDocument.write(    decodeURIComponent(this.getAttribute('data-html')));this.contentDocument.close();\" allowfullscreen webkitallowfullscreen mozallowfullscreen></iframe></div></div>"
      ],
      "text/plain": [
       "<folium.folium.Map at 0x14a22243f70>"
      ]
     },
     "metadata": {},
     "output_type": "display_data"
    }
   ],
   "source": [
    "## check the f distribution of the two uncorrelated multilook images for change detection\n",
    "## likelihood ratio test statistic\n",
    "\n",
    "watermask = ee.Image('UMD/hansen/global_forest_change_2015').select('datamask').eq(1)  \n",
    "\n",
    "im1 = ee.Image(im_list.get(0)).select('VV').clip(aoi).updateMask(watermask)\n",
    "im2 = ee.Image(im_list.get(1)).select('VV').clip(aoi).updateMask(watermask)\n",
    "ratio = im1.divide(im2)\n",
    "\n",
    "location = aoi.centroid().coordinates().getInfo()[::-1]\n",
    "mp = folium.Map(location=location, zoom_start=12)\n",
    "mp.add_ee_layer(ratio,\n",
    "                {'min': 0, 'max': 20, 'palette': ['black', 'white']}, 'Ratio')\n",
    "mp.add_child(folium.LayerControl())\n",
    "\n",
    "display(mp)"
   ]
  },
  {
   "cell_type": "code",
   "execution_count": 48,
   "id": "1db92588",
   "metadata": {
    "colab": {
     "base_uri": "https://localhost:8080/",
     "height": 952
    },
    "executionInfo": {
     "elapsed": 1012,
     "status": "ok",
     "timestamp": 1621621352382,
     "user": {
      "displayName": "Mort Canty",
      "photoUrl": "https://lh3.googleusercontent.com/a-/AOh14Gic8wrtuzbljC46e5I9nhzEOgqYcVXCDqSxyrEQ1Q=s64",
      "userId": "11792105515663483880"
     },
     "user_tz": -120
    },
    "id": "1db92588",
    "outputId": "f603cb0e-0b54-41f5-ad8b-9270bcd47991"
   },
   "outputs": [
    {
     "data": {
      "text/html": [
       "<div style=\"width:100%;\"><div style=\"position:relative;width:100%;height:0;padding-bottom:60%;\"><span style=\"color:#565656\">Make this Notebook Trusted to load map: File -> Trust Notebook</span><iframe src=\"about:blank\" style=\"position:absolute;width:100%;height:100%;left:0;top:0;border:none !important;\" data-html=%3C%21DOCTYPE%20html%3E%0A%3Chead%3E%20%20%20%20%0A%20%20%20%20%3Cmeta%20http-equiv%3D%22content-type%22%20content%3D%22text/html%3B%20charset%3DUTF-8%22%20/%3E%0A%20%20%20%20%0A%20%20%20%20%20%20%20%20%3Cscript%3E%0A%20%20%20%20%20%20%20%20%20%20%20%20L_NO_TOUCH%20%3D%20false%3B%0A%20%20%20%20%20%20%20%20%20%20%20%20L_DISABLE_3D%20%3D%20false%3B%0A%20%20%20%20%20%20%20%20%3C/script%3E%0A%20%20%20%20%0A%20%20%20%20%3Cstyle%3Ehtml%2C%20body%20%7Bwidth%3A%20100%25%3Bheight%3A%20100%25%3Bmargin%3A%200%3Bpadding%3A%200%3B%7D%3C/style%3E%0A%20%20%20%20%3Cstyle%3E%23map%20%7Bposition%3Aabsolute%3Btop%3A0%3Bbottom%3A0%3Bright%3A0%3Bleft%3A0%3B%7D%3C/style%3E%0A%20%20%20%20%3Cscript%20src%3D%22https%3A//cdn.jsdelivr.net/npm/leaflet%401.6.0/dist/leaflet.js%22%3E%3C/script%3E%0A%20%20%20%20%3Cscript%20src%3D%22https%3A//code.jquery.com/jquery-1.12.4.min.js%22%3E%3C/script%3E%0A%20%20%20%20%3Cscript%20src%3D%22https%3A//maxcdn.bootstrapcdn.com/bootstrap/3.2.0/js/bootstrap.min.js%22%3E%3C/script%3E%0A%20%20%20%20%3Cscript%20src%3D%22https%3A//cdnjs.cloudflare.com/ajax/libs/Leaflet.awesome-markers/2.0.2/leaflet.awesome-markers.js%22%3E%3C/script%3E%0A%20%20%20%20%3Clink%20rel%3D%22stylesheet%22%20href%3D%22https%3A//cdn.jsdelivr.net/npm/leaflet%401.6.0/dist/leaflet.css%22/%3E%0A%20%20%20%20%3Clink%20rel%3D%22stylesheet%22%20href%3D%22https%3A//maxcdn.bootstrapcdn.com/bootstrap/3.2.0/css/bootstrap.min.css%22/%3E%0A%20%20%20%20%3Clink%20rel%3D%22stylesheet%22%20href%3D%22https%3A//maxcdn.bootstrapcdn.com/bootstrap/3.2.0/css/bootstrap-theme.min.css%22/%3E%0A%20%20%20%20%3Clink%20rel%3D%22stylesheet%22%20href%3D%22https%3A//maxcdn.bootstrapcdn.com/font-awesome/4.6.3/css/font-awesome.min.css%22/%3E%0A%20%20%20%20%3Clink%20rel%3D%22stylesheet%22%20href%3D%22https%3A//cdnjs.cloudflare.com/ajax/libs/Leaflet.awesome-markers/2.0.2/leaflet.awesome-markers.css%22/%3E%0A%20%20%20%20%3Clink%20rel%3D%22stylesheet%22%20href%3D%22https%3A//cdn.jsdelivr.net/gh/python-visualization/folium/folium/templates/leaflet.awesome.rotate.min.css%22/%3E%0A%20%20%20%20%0A%20%20%20%20%20%20%20%20%20%20%20%20%3Cmeta%20name%3D%22viewport%22%20content%3D%22width%3Ddevice-width%2C%0A%20%20%20%20%20%20%20%20%20%20%20%20%20%20%20%20initial-scale%3D1.0%2C%20maximum-scale%3D1.0%2C%20user-scalable%3Dno%22%20/%3E%0A%20%20%20%20%20%20%20%20%20%20%20%20%3Cstyle%3E%0A%20%20%20%20%20%20%20%20%20%20%20%20%20%20%20%20%23map_996d035a33bd4d9aa63d87ac0fc3f209%20%7B%0A%20%20%20%20%20%20%20%20%20%20%20%20%20%20%20%20%20%20%20%20position%3A%20relative%3B%0A%20%20%20%20%20%20%20%20%20%20%20%20%20%20%20%20%20%20%20%20width%3A%20100.0%25%3B%0A%20%20%20%20%20%20%20%20%20%20%20%20%20%20%20%20%20%20%20%20height%3A%20100.0%25%3B%0A%20%20%20%20%20%20%20%20%20%20%20%20%20%20%20%20%20%20%20%20left%3A%200.0%25%3B%0A%20%20%20%20%20%20%20%20%20%20%20%20%20%20%20%20%20%20%20%20top%3A%200.0%25%3B%0A%20%20%20%20%20%20%20%20%20%20%20%20%20%20%20%20%7D%0A%20%20%20%20%20%20%20%20%20%20%20%20%3C/style%3E%0A%20%20%20%20%20%20%20%20%0A%3C/head%3E%0A%3Cbody%3E%20%20%20%20%0A%20%20%20%20%0A%20%20%20%20%20%20%20%20%20%20%20%20%3Cdiv%20class%3D%22folium-map%22%20id%3D%22map_996d035a33bd4d9aa63d87ac0fc3f209%22%20%3E%3C/div%3E%0A%20%20%20%20%20%20%20%20%0A%3C/body%3E%0A%3Cscript%3E%20%20%20%20%0A%20%20%20%20%0A%20%20%20%20%20%20%20%20%20%20%20%20var%20map_996d035a33bd4d9aa63d87ac0fc3f209%20%3D%20L.map%28%0A%20%20%20%20%20%20%20%20%20%20%20%20%20%20%20%20%22map_996d035a33bd4d9aa63d87ac0fc3f209%22%2C%0A%20%20%20%20%20%20%20%20%20%20%20%20%20%20%20%20%7B%0A%20%20%20%20%20%20%20%20%20%20%20%20%20%20%20%20%20%20%20%20center%3A%20%5B47.84728366902794%2C%20-59.2616271972659%5D%2C%0A%20%20%20%20%20%20%20%20%20%20%20%20%20%20%20%20%20%20%20%20crs%3A%20L.CRS.EPSG3857%2C%0A%20%20%20%20%20%20%20%20%20%20%20%20%20%20%20%20%20%20%20%20zoom%3A%2013%2C%0A%20%20%20%20%20%20%20%20%20%20%20%20%20%20%20%20%20%20%20%20zoomControl%3A%20true%2C%0A%20%20%20%20%20%20%20%20%20%20%20%20%20%20%20%20%20%20%20%20preferCanvas%3A%20false%2C%0A%20%20%20%20%20%20%20%20%20%20%20%20%20%20%20%20%7D%0A%20%20%20%20%20%20%20%20%20%20%20%20%29%3B%0A%0A%20%20%20%20%20%20%20%20%20%20%20%20%0A%0A%20%20%20%20%20%20%20%20%0A%20%20%20%20%0A%20%20%20%20%20%20%20%20%20%20%20%20var%20tile_layer_33d018ba9ddc449bb7d2ba226a25dbc1%20%3D%20L.tileLayer%28%0A%20%20%20%20%20%20%20%20%20%20%20%20%20%20%20%20%22https%3A//stamen-tiles-%7Bs%7D.a.ssl.fastly.net/toner/%7Bz%7D/%7Bx%7D/%7By%7D.png%22%2C%0A%20%20%20%20%20%20%20%20%20%20%20%20%20%20%20%20%7B%22attribution%22%3A%20%22Map%20tiles%20by%20%5Cu003ca%20href%3D%5C%22http%3A//stamen.com%5C%22%5Cu003eStamen%20Design%5Cu003c/a%5Cu003e%2C%20under%20%5Cu003ca%20href%3D%5C%22http%3A//creativecommons.org/licenses/by/3.0%5C%22%5Cu003eCC%20BY%203.0%5Cu003c/a%5Cu003e.%20Data%20by%20%5Cu0026copy%3B%20%5Cu003ca%20href%3D%5C%22http%3A//openstreetmap.org%5C%22%5Cu003eOpenStreetMap%5Cu003c/a%5Cu003e%2C%20under%20%5Cu003ca%20href%3D%5C%22http%3A//www.openstreetmap.org/copyright%5C%22%5Cu003eODbL%5Cu003c/a%5Cu003e.%22%2C%20%22detectRetina%22%3A%20false%2C%20%22maxNativeZoom%22%3A%2018%2C%20%22maxZoom%22%3A%2018%2C%20%22minZoom%22%3A%200%2C%20%22noWrap%22%3A%20false%2C%20%22opacity%22%3A%201%2C%20%22subdomains%22%3A%20%22abc%22%2C%20%22tms%22%3A%20false%7D%0A%20%20%20%20%20%20%20%20%20%20%20%20%29.addTo%28map_996d035a33bd4d9aa63d87ac0fc3f209%29%3B%0A%20%20%20%20%20%20%20%20%0A%20%20%20%20%0A%20%20%20%20%20%20%20%20%20%20%20%20var%20tile_layer_6859ac75bd7e4933a7a79d84c27f8a6c%20%3D%20L.tileLayer%28%0A%20%20%20%20%20%20%20%20%20%20%20%20%20%20%20%20%22https%3A//earthengine.googleapis.com/v1alpha/projects/earthengine-legacy/maps/9747180292693d056a80173307b523a5-b4cbaf69da4722dd9199d3ca2b4752c0/tiles/%7Bz%7D/%7Bx%7D/%7By%7D%22%2C%0A%20%20%20%20%20%20%20%20%20%20%20%20%20%20%20%20%7B%22attribution%22%3A%20%22Map%20Data%20%5Cu0026copy%3B%20%5Cu003ca%20href%3D%5C%22https%3A//earthengine.google.com/%5C%22%5Cu003eGoogle%20Earth%20Engine%5Cu003c/a%5Cu003e%22%2C%20%22detectRetina%22%3A%20false%2C%20%22maxNativeZoom%22%3A%2018%2C%20%22maxZoom%22%3A%2018%2C%20%22minZoom%22%3A%200%2C%20%22noWrap%22%3A%20false%2C%20%22opacity%22%3A%201%2C%20%22subdomains%22%3A%20%22abc%22%2C%20%22tms%22%3A%20false%7D%0A%20%20%20%20%20%20%20%20%20%20%20%20%29.addTo%28map_996d035a33bd4d9aa63d87ac0fc3f209%29%3B%0A%20%20%20%20%20%20%20%20%0A%20%20%20%20%0A%20%20%20%20%20%20%20%20%20%20%20%20var%20tile_layer_8b448dacab5e4dccb861098bf6c324ea%20%3D%20L.tileLayer%28%0A%20%20%20%20%20%20%20%20%20%20%20%20%20%20%20%20%22https%3A//earthengine.googleapis.com/v1alpha/projects/earthengine-legacy/maps/9742dbe1a385d39939474350cd91bf44-db63e5e92f66fad342180259a1d7c79e/tiles/%7Bz%7D/%7Bx%7D/%7By%7D%22%2C%0A%20%20%20%20%20%20%20%20%20%20%20%20%20%20%20%20%7B%22attribution%22%3A%20%22Map%20Data%20%5Cu0026copy%3B%20%5Cu003ca%20href%3D%5C%22https%3A//earthengine.google.com/%5C%22%5Cu003eGoogle%20Earth%20Engine%5Cu003c/a%5Cu003e%22%2C%20%22detectRetina%22%3A%20false%2C%20%22maxNativeZoom%22%3A%2018%2C%20%22maxZoom%22%3A%2018%2C%20%22minZoom%22%3A%200%2C%20%22noWrap%22%3A%20false%2C%20%22opacity%22%3A%201%2C%20%22subdomains%22%3A%20%22abc%22%2C%20%22tms%22%3A%20false%7D%0A%20%20%20%20%20%20%20%20%20%20%20%20%29.addTo%28map_996d035a33bd4d9aa63d87ac0fc3f209%29%3B%0A%20%20%20%20%20%20%20%20%0A%20%20%20%20%0A%20%20%20%20%20%20%20%20%20%20%20%20var%20layer_control_87b7e2a138b94daf9f4816dac95a2761%20%3D%20%7B%0A%20%20%20%20%20%20%20%20%20%20%20%20%20%20%20%20base_layers%20%3A%20%7B%0A%20%20%20%20%20%20%20%20%20%20%20%20%20%20%20%20%20%20%20%20%22stamentoner%22%20%3A%20tile_layer_33d018ba9ddc449bb7d2ba226a25dbc1%2C%0A%20%20%20%20%20%20%20%20%20%20%20%20%20%20%20%20%7D%2C%0A%20%20%20%20%20%20%20%20%20%20%20%20%20%20%20%20overlays%20%3A%20%20%7B%0A%20%20%20%20%20%20%20%20%20%20%20%20%20%20%20%20%20%20%20%20%22Ratio%22%20%3A%20tile_layer_6859ac75bd7e4933a7a79d84c27f8a6c%2C%0A%20%20%20%20%20%20%20%20%20%20%20%20%20%20%20%20%20%20%20%20%22Change%20Map%22%20%3A%20tile_layer_8b448dacab5e4dccb861098bf6c324ea%2C%0A%20%20%20%20%20%20%20%20%20%20%20%20%20%20%20%20%7D%2C%0A%20%20%20%20%20%20%20%20%20%20%20%20%7D%3B%0A%20%20%20%20%20%20%20%20%20%20%20%20L.control.layers%28%0A%20%20%20%20%20%20%20%20%20%20%20%20%20%20%20%20layer_control_87b7e2a138b94daf9f4816dac95a2761.base_layers%2C%0A%20%20%20%20%20%20%20%20%20%20%20%20%20%20%20%20layer_control_87b7e2a138b94daf9f4816dac95a2761.overlays%2C%0A%20%20%20%20%20%20%20%20%20%20%20%20%20%20%20%20%7B%22autoZIndex%22%3A%20true%2C%20%22collapsed%22%3A%20true%2C%20%22position%22%3A%20%22topright%22%7D%0A%20%20%20%20%20%20%20%20%20%20%20%20%29.addTo%28map_996d035a33bd4d9aa63d87ac0fc3f209%29%3B%0A%20%20%20%20%20%20%20%20%0A%3C/script%3E onload=\"this.contentDocument.open();this.contentDocument.write(    decodeURIComponent(this.getAttribute('data-html')));this.contentDocument.close();\" allowfullscreen webkitallowfullscreen mozallowfullscreen></iframe></div></div>"
      ],
      "text/plain": [
       "<folium.folium.Map at 0x14a1c896f10>"
      ]
     },
     "metadata": {},
     "output_type": "display_data"
    }
   ],
   "source": [
    "## distinguish the direction of change and mask out the no-change pixels\n",
    "\n",
    "# Decision threshold alpha/2:\n",
    "dt = f.ppf(0.0005, 2*m, 2*m)\n",
    "\n",
    "# LRT statistics.\n",
    "q1 = im1.divide(im2)\n",
    "q2 = im2.divide(im1)\n",
    "\n",
    "# Change map with 0 = no change, 1 = decrease, 2 = increase in intensity.\n",
    "c_map = im1.multiply(0).where(q2.lt(dt), 1)\n",
    "c_map = c_map.where(q1.lt(dt), 2)\n",
    "\n",
    "# Mask no-change pixels.\n",
    "c_map = c_map.updateMask(c_map.gt(0))\n",
    "\n",
    "# Display map with red for increase and blue for decrease in intensity.\n",
    "location = aoi.centroid().coordinates().getInfo()[::-1]\n",
    "mp = folium.Map(\n",
    "    location=location, tiles='Stamen Toner',\n",
    "    zoom_start=13)\n",
    "folium.TileLayer('OpenStreetMap').add_to(mp)\n",
    "mp.add_ee_layer(ratio,\n",
    "                {'min': 0, 'max': 20, 'palette': ['black', 'white']}, 'Ratio')\n",
    "mp.add_ee_layer(c_map,\n",
    "                {'min': 0, 'max': 2, 'palette': ['black', 'blue', 'red']},\n",
    "                'Change Map')\n",
    "mp.add_child(folium.LayerControl())\n",
    "\n",
    "display(mp)"
   ]
  },
  {
   "cell_type": "code",
   "execution_count": 57,
   "id": "68407efa",
   "metadata": {},
   "outputs": [],
   "source": [
    "## save html file\n",
    "mp.save('sentinel1_map.html')"
   ]
  },
  {
   "cell_type": "code",
   "execution_count": 16,
   "id": "4e311b3a",
   "metadata": {
    "executionInfo": {
     "elapsed": 193,
     "status": "ok",
     "timestamp": 1621621488160,
     "user": {
      "displayName": "Mort Canty",
      "photoUrl": "https://lh3.googleusercontent.com/a-/AOh14Gic8wrtuzbljC46e5I9nhzEOgqYcVXCDqSxyrEQ1Q=s64",
      "userId": "11792105515663483880"
     },
     "user_tz": -120
    },
    "id": "4e311b3a"
   },
   "outputs": [],
   "source": [
    "## bivariate change detection\n",
    "def det(im):\n",
    "  return im.expression('b(0) * b(1)')\n",
    "\n",
    "# Number of looks.\n",
    "m = 5\n",
    "\n",
    "im1 = ee.Image(im_list.get(0)).select('VV', 'VH').clip(aoi).updateMask(watermask)\n",
    "im2 = ee.Image(im_list.get(1)).select('VV', 'VH').clip(aoi).updateMask(watermask)\n",
    "\n",
    "m2logQ = det(im1).log().add(det(im2).log()).subtract(\n",
    "    det(im1.add(im2)).log().multiply(2)).add(4*np.log(2)).multiply(-2*m)"
   ]
  },
  {
   "cell_type": "code",
   "execution_count": 17,
   "id": "42e15c82",
   "metadata": {
    "colab": {
     "base_uri": "https://localhost:8080/",
     "height": 265
    },
    "executionInfo": {
     "elapsed": 1463,
     "status": "ok",
     "timestamp": 1621621491790,
     "user": {
      "displayName": "Mort Canty",
      "photoUrl": "https://lh3.googleusercontent.com/a-/AOh14Gic8wrtuzbljC46e5I9nhzEOgqYcVXCDqSxyrEQ1Q=s64",
      "userId": "11792105515663483880"
     },
     "user_tz": -120
    },
    "id": "42e15c82",
    "outputId": "7db1d6e3-aadf-4122-86ed-14ecddff114f"
   },
   "outputs": [
    {
     "data": {
      "image/png": "[encoded data removed]",
      "text/plain": [
       "<Figure size 432x288 with 1 Axes>"
      ]
     },
     "metadata": {
      "needs_background": "light"
     },
     "output_type": "display_data"
    }
   ],
   "source": [
    "## plot it's histogram with the chi square distribution with two degrees of freedom\n",
    "\n",
    "hist = m2logQ.reduceRegion(\n",
    "    ee.Reducer.fixedHistogram(0, 20, 200), aoi).get('VV').getInfo()\n",
    "a = np.array(hist)\n",
    "x = a[:, 0]\n",
    "y = a[:, 1] / np.sum(a[:, 1])\n",
    "plt.plot(x, y, '.', label='data')\n",
    "plt.plot(x, chi2.pdf(x, 2)/10, '-r', label='chi square')\n",
    "plt.legend()\n",
    "plt.grid()\n",
    "plt.show()"
   ]
  },
  {
   "cell_type": "code",
   "execution_count": 17,
   "id": "9896b23c",
   "metadata": {
    "executionInfo": {
     "elapsed": 211,
     "status": "ok",
     "timestamp": 1621621503388,
     "user": {
      "displayName": "Mort Canty",
      "photoUrl": "https://lh3.googleusercontent.com/a-/AOh14Gic8wrtuzbljC46e5I9nhzEOgqYcVXCDqSxyrEQ1Q=s64",
      "userId": "11792105515663483880"
     },
     "user_tz": -120
    },
    "id": "9896b23c"
   },
   "outputs": [],
   "source": [
    "#### TEST ON AGRICULTURE SITE\n",
    "\n",
    "geoJSON ={\n",
    "  \"type\": \"FeatureCollection\",\n",
    "  \"features\": [\n",
    "    {\n",
    "      \"type\": \"Feature\",\n",
    "      \"properties\": {},\n",
    "      \"geometry\": {\n",
    "        \"type\": \"Polygon\",\n",
    "        \"coordinates\": [\n",
    "          [\n",
    "            [\n",
    "              -98.2122802734375,\n",
    "              49.769291532628515\n",
    "            ],\n",
    "            [\n",
    "              -98.00559997558594,\n",
    "              49.769291532628515\n",
    "            ],\n",
    "            [\n",
    "              -98.00559997558594,\n",
    "              49.88578690918283\n",
    "            ],\n",
    "            [\n",
    "              -98.2122802734375,\n",
    "              49.88578690918283\n",
    "            ],\n",
    "            [\n",
    "              -98.2122802734375,\n",
    "              49.769291532628515\n",
    "            ]\n",
    "          ]\n",
    "        ]\n",
    "      }\n",
    "    }\n",
    "  ]\n",
    "}\n",
    "coords = geoJSON['features'][0]['geometry']['coordinates']\n",
    "aoi1 = ee.Geometry.Polygon(coords)"
   ]
  },
  {
   "cell_type": "code",
   "execution_count": 18,
   "id": "c474085d",
   "metadata": {
    "executionInfo": {
     "elapsed": 189,
     "status": "ok",
     "timestamp": 1621621511598,
     "user": {
      "displayName": "Mort Canty",
      "photoUrl": "https://lh3.googleusercontent.com/a-/AOh14Gic8wrtuzbljC46e5I9nhzEOgqYcVXCDqSxyrEQ1Q=s64",
      "userId": "11792105515663483880"
     },
     "user_tz": -120
    },
    "id": "c474085d"
   },
   "outputs": [],
   "source": [
    "## one image from August and one from Sept, 2018\n",
    "\n",
    "im1 = ee.Image(ee.ImageCollection('COPERNICUS/S1_GRD_FLOAT')\n",
    "                .filterBounds(aoi1)\n",
    "                .filterDate(ee.Date('2018-08-01'), ee.Date('2018-08-31'))\n",
    "                .filter(ee.Filter.eq('orbitProperties_pass', 'ASCENDING'))\n",
    "                .filter(ee.Filter.eq('relativeOrbitNumber_start', 136))\n",
    "                .first()\n",
    "                .clip(aoi1))\n",
    "im2 = ee.Image(ee.ImageCollection('COPERNICUS/S1_GRD_FLOAT').filterBounds(aoi1)\n",
    "                .filterDate(ee.Date('2018-09-01'), ee.Date('2018-09-30'))\n",
    "                .filter(ee.Filter.eq('orbitProperties_pass', 'ASCENDING'))\n",
    "                .filter(ee.Filter.eq('relativeOrbitNumber_start', 136))\n",
    "                .first()\n",
    "                .clip(aoi1))"
   ]
  },
  {
   "cell_type": "code",
   "execution_count": 19,
   "id": "6a98f97c",
   "metadata": {
    "colab": {
     "base_uri": "https://localhost:8080/"
    },
    "executionInfo": {
     "elapsed": 185,
     "status": "ok",
     "timestamp": 1621621515456,
     "user": {
      "displayName": "Mort Canty",
      "photoUrl": "https://lh3.googleusercontent.com/a-/AOh14Gic8wrtuzbljC46e5I9nhzEOgqYcVXCDqSxyrEQ1Q=s64",
      "userId": "11792105515663483880"
     },
     "user_tz": -120
    },
    "id": "6a98f97c",
    "outputId": "705bc808-276f-4aa5-b18f-3d674e25552a"
   },
   "outputs": [
    {
     "name": "stdout",
     "output_type": "stream",
     "text": [
      "08/01/18\n",
      "09/06/18\n"
     ]
    }
   ],
   "source": [
    "## acquisition times\n",
    "\n",
    "acq_time = im1.get('system:time_start').getInfo()\n",
    "print( time.strftime('%x', time.gmtime(acq_time/1000)) )\n",
    "acq_time = im2.get('system:time_start').getInfo()\n",
    "print( time.strftime('%x', time.gmtime(acq_time/1000)) )"
   ]
  },
  {
   "cell_type": "code",
   "execution_count": 20,
   "id": "d06d99e6",
   "metadata": {
    "colab": {
     "base_uri": "https://localhost:8080/",
     "height": 952
    },
    "executionInfo": {
     "elapsed": 377,
     "status": "ok",
     "timestamp": 1621621522874,
     "user": {
      "displayName": "Mort Canty",
      "photoUrl": "https://lh3.googleusercontent.com/a-/AOh14Gic8wrtuzbljC46e5I9nhzEOgqYcVXCDqSxyrEQ1Q=s64",
      "userId": "11792105515663483880"
     },
     "user_tz": -120
    },
    "id": "d06d99e6",
    "outputId": "a6af37c6-a9f0-4c96-9696-0df59a1f32ab"
   },
   "outputs": [
    {
     "data": {
      "text/html": [
       "<div style=\"width:100%;\"><div style=\"position:relative;width:100%;height:0;padding-bottom:60%;\"><span style=\"color:#565656\">Make this Notebook Trusted to load map: File -> Trust Notebook</span><iframe src=\"about:blank\" style=\"position:absolute;width:100%;height:100%;left:0;top:0;border:none !important;\" data-html=%3C%21DOCTYPE%20html%3E%0A%3Chead%3E%20%20%20%20%0A%20%20%20%20%3Cmeta%20http-equiv%3D%22content-type%22%20content%3D%22text/html%3B%20charset%3DUTF-8%22%20/%3E%0A%20%20%20%20%0A%20%20%20%20%20%20%20%20%3Cscript%3E%0A%20%20%20%20%20%20%20%20%20%20%20%20L_NO_TOUCH%20%3D%20false%3B%0A%20%20%20%20%20%20%20%20%20%20%20%20L_DISABLE_3D%20%3D%20false%3B%0A%20%20%20%20%20%20%20%20%3C/script%3E%0A%20%20%20%20%0A%20%20%20%20%3Cstyle%3Ehtml%2C%20body%20%7Bwidth%3A%20100%25%3Bheight%3A%20100%25%3Bmargin%3A%200%3Bpadding%3A%200%3B%7D%3C/style%3E%0A%20%20%20%20%3Cstyle%3E%23map%20%7Bposition%3Aabsolute%3Btop%3A0%3Bbottom%3A0%3Bright%3A0%3Bleft%3A0%3B%7D%3C/style%3E%0A%20%20%20%20%3Cscript%20src%3D%22https%3A//cdn.jsdelivr.net/npm/leaflet%401.6.0/dist/leaflet.js%22%3E%3C/script%3E%0A%20%20%20%20%3Cscript%20src%3D%22https%3A//code.jquery.com/jquery-1.12.4.min.js%22%3E%3C/script%3E%0A%20%20%20%20%3Cscript%20src%3D%22https%3A//maxcdn.bootstrapcdn.com/bootstrap/3.2.0/js/bootstrap.min.js%22%3E%3C/script%3E%0A%20%20%20%20%3Cscript%20src%3D%22https%3A//cdnjs.cloudflare.com/ajax/libs/Leaflet.awesome-markers/2.0.2/leaflet.awesome-markers.js%22%3E%3C/script%3E%0A%20%20%20%20%3Clink%20rel%3D%22stylesheet%22%20href%3D%22https%3A//cdn.jsdelivr.net/npm/leaflet%401.6.0/dist/leaflet.css%22/%3E%0A%20%20%20%20%3Clink%20rel%3D%22stylesheet%22%20href%3D%22https%3A//maxcdn.bootstrapcdn.com/bootstrap/3.2.0/css/bootstrap.min.css%22/%3E%0A%20%20%20%20%3Clink%20rel%3D%22stylesheet%22%20href%3D%22https%3A//maxcdn.bootstrapcdn.com/bootstrap/3.2.0/css/bootstrap-theme.min.css%22/%3E%0A%20%20%20%20%3Clink%20rel%3D%22stylesheet%22%20href%3D%22https%3A//maxcdn.bootstrapcdn.com/font-awesome/4.6.3/css/font-awesome.min.css%22/%3E%0A%20%20%20%20%3Clink%20rel%3D%22stylesheet%22%20href%3D%22https%3A//cdnjs.cloudflare.com/ajax/libs/Leaflet.awesome-markers/2.0.2/leaflet.awesome-markers.css%22/%3E%0A%20%20%20%20%3Clink%20rel%3D%22stylesheet%22%20href%3D%22https%3A//cdn.jsdelivr.net/gh/python-visualization/folium/folium/templates/leaflet.awesome.rotate.min.css%22/%3E%0A%20%20%20%20%0A%20%20%20%20%20%20%20%20%20%20%20%20%3Cmeta%20name%3D%22viewport%22%20content%3D%22width%3Ddevice-width%2C%0A%20%20%20%20%20%20%20%20%20%20%20%20%20%20%20%20initial-scale%3D1.0%2C%20maximum-scale%3D1.0%2C%20user-scalable%3Dno%22%20/%3E%0A%20%20%20%20%20%20%20%20%20%20%20%20%3Cstyle%3E%0A%20%20%20%20%20%20%20%20%20%20%20%20%20%20%20%20%23map_50992af41b1049ab8624d52f07c3740b%20%7B%0A%20%20%20%20%20%20%20%20%20%20%20%20%20%20%20%20%20%20%20%20position%3A%20relative%3B%0A%20%20%20%20%20%20%20%20%20%20%20%20%20%20%20%20%20%20%20%20width%3A%20100.0%25%3B%0A%20%20%20%20%20%20%20%20%20%20%20%20%20%20%20%20%20%20%20%20height%3A%20100.0%25%3B%0A%20%20%20%20%20%20%20%20%20%20%20%20%20%20%20%20%20%20%20%20left%3A%200.0%25%3B%0A%20%20%20%20%20%20%20%20%20%20%20%20%20%20%20%20%20%20%20%20top%3A%200.0%25%3B%0A%20%20%20%20%20%20%20%20%20%20%20%20%20%20%20%20%7D%0A%20%20%20%20%20%20%20%20%20%20%20%20%3C/style%3E%0A%20%20%20%20%20%20%20%20%0A%3C/head%3E%0A%3Cbody%3E%20%20%20%20%0A%20%20%20%20%0A%20%20%20%20%20%20%20%20%20%20%20%20%3Cdiv%20class%3D%22folium-map%22%20id%3D%22map_50992af41b1049ab8624d52f07c3740b%22%20%3E%3C/div%3E%0A%20%20%20%20%20%20%20%20%0A%3C/body%3E%0A%3Cscript%3E%20%20%20%20%0A%20%20%20%20%0A%20%20%20%20%20%20%20%20%20%20%20%20var%20map_50992af41b1049ab8624d52f07c3740b%20%3D%20L.map%28%0A%20%20%20%20%20%20%20%20%20%20%20%20%20%20%20%20%22map_50992af41b1049ab8624d52f07c3740b%22%2C%0A%20%20%20%20%20%20%20%20%20%20%20%20%20%20%20%20%7B%0A%20%20%20%20%20%20%20%20%20%20%20%20%20%20%20%20%20%20%20%20center%3A%20%5B49.82756177743855%2C%20-98.10894012451173%5D%2C%0A%20%20%20%20%20%20%20%20%20%20%20%20%20%20%20%20%20%20%20%20crs%3A%20L.CRS.EPSG3857%2C%0A%20%20%20%20%20%20%20%20%20%20%20%20%20%20%20%20%20%20%20%20zoom%3A%2012%2C%0A%20%20%20%20%20%20%20%20%20%20%20%20%20%20%20%20%20%20%20%20zoomControl%3A%20true%2C%0A%20%20%20%20%20%20%20%20%20%20%20%20%20%20%20%20%20%20%20%20preferCanvas%3A%20false%2C%0A%20%20%20%20%20%20%20%20%20%20%20%20%20%20%20%20%7D%0A%20%20%20%20%20%20%20%20%20%20%20%20%29%3B%0A%0A%20%20%20%20%20%20%20%20%20%20%20%20%0A%0A%20%20%20%20%20%20%20%20%0A%20%20%20%20%0A%20%20%20%20%20%20%20%20%20%20%20%20var%20tile_layer_8cdc4b4bd07d43029b4a2815ec3aec83%20%3D%20L.tileLayer%28%0A%20%20%20%20%20%20%20%20%20%20%20%20%20%20%20%20%22https%3A//%7Bs%7D.tile.openstreetmap.org/%7Bz%7D/%7Bx%7D/%7By%7D.png%22%2C%0A%20%20%20%20%20%20%20%20%20%20%20%20%20%20%20%20%7B%22attribution%22%3A%20%22Data%20by%20%5Cu0026copy%3B%20%5Cu003ca%20href%3D%5C%22http%3A//openstreetmap.org%5C%22%5Cu003eOpenStreetMap%5Cu003c/a%5Cu003e%2C%20under%20%5Cu003ca%20href%3D%5C%22http%3A//www.openstreetmap.org/copyright%5C%22%5Cu003eODbL%5Cu003c/a%5Cu003e.%22%2C%20%22detectRetina%22%3A%20false%2C%20%22maxNativeZoom%22%3A%2018%2C%20%22maxZoom%22%3A%2018%2C%20%22minZoom%22%3A%200%2C%20%22noWrap%22%3A%20false%2C%20%22opacity%22%3A%201%2C%20%22subdomains%22%3A%20%22abc%22%2C%20%22tms%22%3A%20false%7D%0A%20%20%20%20%20%20%20%20%20%20%20%20%29.addTo%28map_50992af41b1049ab8624d52f07c3740b%29%3B%0A%20%20%20%20%20%20%20%20%0A%20%20%20%20%0A%20%20%20%20%20%20%20%20%20%20%20%20var%20tile_layer_1beba93b2a3b4075b5719447d59f66bb%20%3D%20L.tileLayer%28%0A%20%20%20%20%20%20%20%20%20%20%20%20%20%20%20%20%22https%3A//earthengine.googleapis.com/v1alpha/projects/earthengine-legacy/maps/f38af85ad07e91f7d8d26495a222ad9c-aebbd03ab0293e464a003abe47c88271/tiles/%7Bz%7D/%7Bx%7D/%7By%7D%22%2C%0A%20%20%20%20%20%20%20%20%20%20%20%20%20%20%20%20%7B%22attribution%22%3A%20%22Map%20Data%20%5Cu0026copy%3B%20%5Cu003ca%20href%3D%5C%22https%3A//earthengine.google.com/%5C%22%5Cu003eGoogle%20Earth%20Engine%5Cu003c/a%5Cu003e%22%2C%20%22detectRetina%22%3A%20false%2C%20%22maxNativeZoom%22%3A%2018%2C%20%22maxZoom%22%3A%2018%2C%20%22minZoom%22%3A%200%2C%20%22noWrap%22%3A%20false%2C%20%22opacity%22%3A%201%2C%20%22subdomains%22%3A%20%22abc%22%2C%20%22tms%22%3A%20false%7D%0A%20%20%20%20%20%20%20%20%20%20%20%20%29.addTo%28map_50992af41b1049ab8624d52f07c3740b%29%3B%0A%20%20%20%20%20%20%20%20%0A%20%20%20%20%0A%20%20%20%20%20%20%20%20%20%20%20%20var%20layer_control_a46e105282e34e8fa9d8816973e84bf0%20%3D%20%7B%0A%20%20%20%20%20%20%20%20%20%20%20%20%20%20%20%20base_layers%20%3A%20%7B%0A%20%20%20%20%20%20%20%20%20%20%20%20%20%20%20%20%20%20%20%20%22openstreetmap%22%20%3A%20tile_layer_8cdc4b4bd07d43029b4a2815ec3aec83%2C%0A%20%20%20%20%20%20%20%20%20%20%20%20%20%20%20%20%7D%2C%0A%20%20%20%20%20%20%20%20%20%20%20%20%20%20%20%20overlays%20%3A%20%20%7B%0A%20%20%20%20%20%20%20%20%20%20%20%20%20%20%20%20%20%20%20%20%22P-value%22%20%3A%20tile_layer_1beba93b2a3b4075b5719447d59f66bb%2C%0A%20%20%20%20%20%20%20%20%20%20%20%20%20%20%20%20%7D%2C%0A%20%20%20%20%20%20%20%20%20%20%20%20%7D%3B%0A%20%20%20%20%20%20%20%20%20%20%20%20L.control.layers%28%0A%20%20%20%20%20%20%20%20%20%20%20%20%20%20%20%20layer_control_a46e105282e34e8fa9d8816973e84bf0.base_layers%2C%0A%20%20%20%20%20%20%20%20%20%20%20%20%20%20%20%20layer_control_a46e105282e34e8fa9d8816973e84bf0.overlays%2C%0A%20%20%20%20%20%20%20%20%20%20%20%20%20%20%20%20%7B%22autoZIndex%22%3A%20true%2C%20%22collapsed%22%3A%20true%2C%20%22position%22%3A%20%22topright%22%7D%0A%20%20%20%20%20%20%20%20%20%20%20%20%29.addTo%28map_50992af41b1049ab8624d52f07c3740b%29%3B%0A%20%20%20%20%20%20%20%20%0A%3C/script%3E onload=\"this.contentDocument.open();this.contentDocument.write(    decodeURIComponent(this.getAttribute('data-html')));this.contentDocument.close();\" allowfullscreen webkitallowfullscreen mozallowfullscreen></iframe></div></div>"
      ],
      "text/plain": [
       "<folium.folium.Map at 0x1a084519d30>"
      ]
     },
     "execution_count": 20,
     "metadata": {},
     "output_type": "execute_result"
    }
   ],
   "source": [
    "## map chi square cumulative distribution function over ee.Image to calculate the P value directly\n",
    "\n",
    "def chi2cdf(chi2, df):\n",
    "  ''' Chi square cumulative distribution function for df degrees of freedom\n",
    "      using the built-in incomplete gamma function gammainc() '''\n",
    "  return ee.Image(chi2.divide(2)).gammainc(ee.Number(df).divide(2))\n",
    "\n",
    "# The observed test statistic image -2logq.\n",
    "m2logq = det(im1).log().add(det(im2).log()).subtract(\n",
    "    det(im1.add(im2)).log().multiply(2)).add(4*np.log(2)).multiply(-2*m)\n",
    "\n",
    "# The P value image prob(m2logQ > m2logq) = 1 - prob(m2logQ < m2logq).\n",
    "p_value = ee.Image.constant(1).subtract(chi2cdf(m2logq, 2))\n",
    "\n",
    "# Project onto map.\n",
    "location = aoi1.centroid().coordinates().getInfo()[::-1]\n",
    "mp = folium.Map(location=location, zoom_start=12)\n",
    "mp.add_ee_layer(p_value,\n",
    "                {'min': 0,'max': 1, 'palette': ['black', 'white']}, 'P-value')\n",
    "mp.add_child(folium.LayerControl())"
   ]
  },
  {
   "cell_type": "code",
   "execution_count": 86,
   "id": "37fe0b14",
   "metadata": {
    "colab": {
     "base_uri": "https://localhost:8080/",
     "height": 952
    },
    "executionInfo": {
     "elapsed": 708,
     "status": "ok",
     "timestamp": 1621621541914,
     "user": {
      "displayName": "Mort Canty",
      "photoUrl": "https://lh3.googleusercontent.com/a-/AOh14Gic8wrtuzbljC46e5I9nhzEOgqYcVXCDqSxyrEQ1Q=s64",
      "userId": "11792105515663483880"
     },
     "user_tz": -120
    },
    "id": "37fe0b14",
    "outputId": "60a81cdb-4354-4b0c-f000-d0beb1191b32"
   },
   "outputs": [
    {
     "data": {
      "text/html": [
       "<div style=\"width:100%;\"><div style=\"position:relative;width:100%;height:0;padding-bottom:60%;\"><span style=\"color:#565656\">Make this Notebook Trusted to load map: File -> Trust Notebook</span><iframe src=\"about:blank\" style=\"position:absolute;width:100%;height:100%;left:0;top:0;border:none !important;\" data-html=%3C%21DOCTYPE%20html%3E%0A%3Chead%3E%20%20%20%20%0A%20%20%20%20%3Cmeta%20http-equiv%3D%22content-type%22%20content%3D%22text/html%3B%20charset%3DUTF-8%22%20/%3E%0A%20%20%20%20%3Cscript%3EL_PREFER_CANVAS%3Dfalse%3B%20L_NO_TOUCH%3Dfalse%3B%20L_DISABLE_3D%3Dfalse%3B%3C/script%3E%0A%20%20%20%20%3Cscript%20src%3D%22https%3A//cdn.jsdelivr.net/npm/leaflet%401.4.0/dist/leaflet.js%22%3E%3C/script%3E%0A%20%20%20%20%3Cscript%20src%3D%22https%3A//code.jquery.com/jquery-1.12.4.min.js%22%3E%3C/script%3E%0A%20%20%20%20%3Cscript%20src%3D%22https%3A//maxcdn.bootstrapcdn.com/bootstrap/3.2.0/js/bootstrap.min.js%22%3E%3C/script%3E%0A%20%20%20%20%3Cscript%20src%3D%22https%3A//cdnjs.cloudflare.com/ajax/libs/Leaflet.awesome-markers/2.0.2/leaflet.awesome-markers.js%22%3E%3C/script%3E%0A%20%20%20%20%3Clink%20rel%3D%22stylesheet%22%20href%3D%22https%3A//cdn.jsdelivr.net/npm/leaflet%401.4.0/dist/leaflet.css%22/%3E%0A%20%20%20%20%3Clink%20rel%3D%22stylesheet%22%20href%3D%22https%3A//maxcdn.bootstrapcdn.com/bootstrap/3.2.0/css/bootstrap.min.css%22/%3E%0A%20%20%20%20%3Clink%20rel%3D%22stylesheet%22%20href%3D%22https%3A//maxcdn.bootstrapcdn.com/bootstrap/3.2.0/css/bootstrap-theme.min.css%22/%3E%0A%20%20%20%20%3Clink%20rel%3D%22stylesheet%22%20href%3D%22https%3A//maxcdn.bootstrapcdn.com/font-awesome/4.6.3/css/font-awesome.min.css%22/%3E%0A%20%20%20%20%3Clink%20rel%3D%22stylesheet%22%20href%3D%22https%3A//cdnjs.cloudflare.com/ajax/libs/Leaflet.awesome-markers/2.0.2/leaflet.awesome-markers.css%22/%3E%0A%20%20%20%20%3Clink%20rel%3D%22stylesheet%22%20href%3D%22https%3A//rawcdn.githack.com/python-visualization/folium/master/folium/templates/leaflet.awesome.rotate.css%22/%3E%0A%20%20%20%20%3Cstyle%3Ehtml%2C%20body%20%7Bwidth%3A%20100%25%3Bheight%3A%20100%25%3Bmargin%3A%200%3Bpadding%3A%200%3B%7D%3C/style%3E%0A%20%20%20%20%3Cstyle%3E%23map%20%7Bposition%3Aabsolute%3Btop%3A0%3Bbottom%3A0%3Bright%3A0%3Bleft%3A0%3B%7D%3C/style%3E%0A%20%20%20%20%0A%20%20%20%20%3Cmeta%20name%3D%22viewport%22%20content%3D%22width%3Ddevice-width%2C%0A%20%20%20%20%20%20%20%20initial-scale%3D1.0%2C%20maximum-scale%3D1.0%2C%20user-scalable%3Dno%22%20/%3E%0A%20%20%20%20%3Cstyle%3E%23map_0938c7043af24f9487c944b1d43d8aad%20%7B%0A%20%20%20%20%20%20%20%20position%3A%20relative%3B%0A%20%20%20%20%20%20%20%20width%3A%20100.0%25%3B%0A%20%20%20%20%20%20%20%20height%3A%20100.0%25%3B%0A%20%20%20%20%20%20%20%20left%3A%200.0%25%3B%0A%20%20%20%20%20%20%20%20top%3A%200.0%25%3B%0A%20%20%20%20%20%20%20%20%7D%0A%20%20%20%20%3C/style%3E%0A%3C/head%3E%0A%3Cbody%3E%20%20%20%20%0A%20%20%20%20%0A%20%20%20%20%3Cdiv%20class%3D%22folium-map%22%20id%3D%22map_0938c7043af24f9487c944b1d43d8aad%22%20%3E%3C/div%3E%0A%3C/body%3E%0A%3Cscript%3E%20%20%20%20%0A%20%20%20%20%0A%20%20%20%20%0A%20%20%20%20%20%20%20%20var%20bounds%20%3D%20null%3B%0A%20%20%20%20%0A%0A%20%20%20%20var%20map_0938c7043af24f9487c944b1d43d8aad%20%3D%20L.map%28%0A%20%20%20%20%20%20%20%20%27map_0938c7043af24f9487c944b1d43d8aad%27%2C%20%7B%0A%20%20%20%20%20%20%20%20center%3A%20%5B49.82756177743855%2C%20-98.10894012451173%5D%2C%0A%20%20%20%20%20%20%20%20zoom%3A%2012%2C%0A%20%20%20%20%20%20%20%20maxBounds%3A%20bounds%2C%0A%20%20%20%20%20%20%20%20layers%3A%20%5B%5D%2C%0A%20%20%20%20%20%20%20%20worldCopyJump%3A%20false%2C%0A%20%20%20%20%20%20%20%20crs%3A%20L.CRS.EPSG3857%2C%0A%20%20%20%20%20%20%20%20zoomControl%3A%20true%2C%0A%20%20%20%20%20%20%20%20%7D%29%3B%0A%0A%0A%20%20%20%20%0A%20%20%20%20var%20tile_layer_f653c49229884f49a1b0e132ebb6869f%20%3D%20L.tileLayer%28%0A%20%20%20%20%20%20%20%20%27https%3A//%7Bs%7D.tile.openstreetmap.org/%7Bz%7D/%7Bx%7D/%7By%7D.png%27%2C%0A%20%20%20%20%20%20%20%20%7B%0A%20%20%20%20%20%20%20%20%22attribution%22%3A%20null%2C%0A%20%20%20%20%20%20%20%20%22detectRetina%22%3A%20false%2C%0A%20%20%20%20%20%20%20%20%22maxNativeZoom%22%3A%2018%2C%0A%20%20%20%20%20%20%20%20%22maxZoom%22%3A%2018%2C%0A%20%20%20%20%20%20%20%20%22minZoom%22%3A%200%2C%0A%20%20%20%20%20%20%20%20%22noWrap%22%3A%20false%2C%0A%20%20%20%20%20%20%20%20%22opacity%22%3A%201%2C%0A%20%20%20%20%20%20%20%20%22subdomains%22%3A%20%22abc%22%2C%0A%20%20%20%20%20%20%20%20%22tms%22%3A%20false%0A%7D%29.addTo%28map_0938c7043af24f9487c944b1d43d8aad%29%3B%0A%20%20%20%20var%20tile_layer_09fcef9b8e934f1fb7984e75cd036c8d%20%3D%20L.tileLayer%28%0A%20%20%20%20%20%20%20%20%27https%3A//earthengine.googleapis.com/v1alpha/projects/earthengine-legacy/maps/1ceecf6530455930ce484104c3080155-c900cc1672b9df776ddff8aa2339cdfa/tiles/%7Bz%7D/%7Bx%7D/%7By%7D%27%2C%0A%20%20%20%20%20%20%20%20%7B%0A%20%20%20%20%20%20%20%20%22attribution%22%3A%20%22Map%20Data%20%26copy%3B%20%3Ca%20href%3D%5C%22https%3A//earthengine.google.com/%5C%22%3EGoogle%20Earth%20Engine%3C/a%3E%22%2C%0A%20%20%20%20%20%20%20%20%22detectRetina%22%3A%20false%2C%0A%20%20%20%20%20%20%20%20%22maxNativeZoom%22%3A%2018%2C%0A%20%20%20%20%20%20%20%20%22maxZoom%22%3A%2018%2C%0A%20%20%20%20%20%20%20%20%22minZoom%22%3A%200%2C%0A%20%20%20%20%20%20%20%20%22noWrap%22%3A%20false%2C%0A%20%20%20%20%20%20%20%20%22opacity%22%3A%201%2C%0A%20%20%20%20%20%20%20%20%22subdomains%22%3A%20%22abc%22%2C%0A%20%20%20%20%20%20%20%20%22tms%22%3A%20false%0A%7D%29.addTo%28map_0938c7043af24f9487c944b1d43d8aad%29%3B%0A%20%20%20%20var%20tile_layer_155e88abb9474f1eb51d716c04d67850%20%3D%20L.tileLayer%28%0A%20%20%20%20%20%20%20%20%27https%3A//earthengine.googleapis.com/v1alpha/projects/earthengine-legacy/maps/0dc704e0dd4cc184ad32d9c6646cf35c-993b26a09b82747d2d5677e876476913/tiles/%7Bz%7D/%7Bx%7D/%7By%7D%27%2C%0A%20%20%20%20%20%20%20%20%7B%0A%20%20%20%20%20%20%20%20%22attribution%22%3A%20%22Map%20Data%20%26copy%3B%20%3Ca%20href%3D%5C%22https%3A//earthengine.google.com/%5C%22%3EGoogle%20Earth%20Engine%3C/a%3E%22%2C%0A%20%20%20%20%20%20%20%20%22detectRetina%22%3A%20false%2C%0A%20%20%20%20%20%20%20%20%22maxNativeZoom%22%3A%2018%2C%0A%20%20%20%20%20%20%20%20%22maxZoom%22%3A%2018%2C%0A%20%20%20%20%20%20%20%20%22minZoom%22%3A%200%2C%0A%20%20%20%20%20%20%20%20%22noWrap%22%3A%20false%2C%0A%20%20%20%20%20%20%20%20%22opacity%22%3A%201%2C%0A%20%20%20%20%20%20%20%20%22subdomains%22%3A%20%22abc%22%2C%0A%20%20%20%20%20%20%20%20%22tms%22%3A%20false%0A%7D%29.addTo%28map_0938c7043af24f9487c944b1d43d8aad%29%3B%0A%20%20%20%20%0A%20%20%20%20%20%20%20%20%20%20%20%20var%20layer_control_b277a5fc36a649348076ffcf26a13528%20%3D%20%7B%0A%20%20%20%20%20%20%20%20%20%20%20%20%20%20%20%20base_layers%20%3A%20%7B%20%22openstreetmap%22%20%3A%20tile_layer_f653c49229884f49a1b0e132ebb6869f%2C%20%7D%2C%0A%20%20%20%20%20%20%20%20%20%20%20%20%20%20%20%20overlays%20%3A%20%7B%20%22crop2018%22%20%3A%20tile_layer_09fcef9b8e934f1fb7984e75cd036c8d%2C%22c_map%22%20%3A%20tile_layer_155e88abb9474f1eb51d716c04d67850%2C%20%7D%0A%20%20%20%20%20%20%20%20%20%20%20%20%20%20%20%20%7D%3B%0A%20%20%20%20%20%20%20%20%20%20%20%20L.control.layers%28%0A%20%20%20%20%20%20%20%20%20%20%20%20%20%20%20%20layer_control_b277a5fc36a649348076ffcf26a13528.base_layers%2C%0A%20%20%20%20%20%20%20%20%20%20%20%20%20%20%20%20layer_control_b277a5fc36a649348076ffcf26a13528.overlays%2C%0A%20%20%20%20%20%20%20%20%20%20%20%20%20%20%20%20%7Bposition%3A%20%27topright%27%2C%0A%20%20%20%20%20%20%20%20%20%20%20%20%20%20%20%20%20collapsed%3A%20true%2C%0A%20%20%20%20%20%20%20%20%20%20%20%20%20%20%20%20%20autoZIndex%3A%20true%0A%20%20%20%20%20%20%20%20%20%20%20%20%20%20%20%20%7D%29.addTo%28map_0938c7043af24f9487c944b1d43d8aad%29%3B%0A%20%20%20%20%20%20%20%20%20%20%20%20%0A%20%20%20%20%20%20%20%20%0A%3C/script%3E onload=\"this.contentDocument.open();this.contentDocument.write(    decodeURIComponent(this.getAttribute('data-html')));this.contentDocument.close();\" allowfullscreen webkitallowfullscreen mozallowfullscreen></iframe></div></div>"
      ],
      "text/plain": [
       "<folium.folium.Map at 0x7f499f1c9f10>"
      ]
     },
     "execution_count": 86,
     "metadata": {
      "tags": []
     },
     "output_type": "execute_result"
    }
   ],
   "source": [
    "c_map = p_value.multiply(0).where(p_value.lt(0.01), 1)\n",
    "\n",
    "crop2018 = (ee.ImageCollection('AAFC/ACI')\n",
    "             .filter(ee.Filter.date('2018-01-01', '2018-12-01'))\n",
    "             .first()\n",
    "             .clip(aoi1))\n",
    "\n",
    "mp = folium.Map(location=location, zoom_start=12)\n",
    "mp.add_ee_layer(crop2018, {min: 0, max: 255}, 'crop2018')\n",
    "mp.add_ee_layer(c_map.updateMask(\n",
    "    c_map.gt(0)), {'min': 0, 'max': 1, 'palette': ['black', 'red']}, 'c_map')\n",
    "mp.add_child(folium.LayerControl())"
   ]
  },
  {
   "cell_type": "code",
   "execution_count": 87,
   "id": "ac181126",
   "metadata": {
    "colab": {
     "base_uri": "https://localhost:8080/",
     "height": 269
    },
    "executionInfo": {
     "elapsed": 523,
     "status": "ok",
     "timestamp": 1621621560544,
     "user": {
      "displayName": "Mort Canty",
      "photoUrl": "https://lh3.googleusercontent.com/a-/AOh14Gic8wrtuzbljC46e5I9nhzEOgqYcVXCDqSxyrEQ1Q=s64",
      "userId": "11792105515663483880"
     },
     "user_tz": -120
    },
    "id": "ac181126",
    "outputId": "b847a2a6-fc62-4f0e-d00b-94479a6e8497"
   },
   "outputs": [
    {
     "data": {
      "image/png": "[encoded data removed]",
      "text/plain": [
       "<Figure size 432x288 with 1 Axes>"
      ]
     },
     "metadata": {
      "needs_background": "light",
      "tags": []
     },
     "output_type": "display_data"
    }
   ],
   "source": [
    "geoJSON ={\n",
    "  \"type\": \"FeatureCollection\",\n",
    "  \"features\": [\n",
    "    {\n",
    "      \"type\": \"Feature\",\n",
    "      \"properties\": {},\n",
    "      \"geometry\": {\n",
    "        \"type\": \"Polygon\",\n",
    "        \"coordinates\": [\n",
    "          [\n",
    "            [\n",
    "              -98.18550109863281,\n",
    "              49.769735012247885\n",
    "            ],\n",
    "            [\n",
    "              -98.13949584960938,\n",
    "              49.769735012247885\n",
    "            ],\n",
    "            [\n",
    "              -98.13949584960938,\n",
    "              49.798109268622\n",
    "            ],\n",
    "            [\n",
    "              -98.18550109863281,\n",
    "              49.798109268622\n",
    "            ],\n",
    "            [\n",
    "              -98.18550109863281,\n",
    "              49.769735012247885\n",
    "            ]\n",
    "          ]\n",
    "        ]\n",
    "      }\n",
    "    }\n",
    "  ]\n",
    "}\n",
    "coords = geoJSON['features'][0]['geometry']['coordinates']\n",
    "aoi1_sub = ee.Geometry.Polygon(coords)\n",
    "hist = p_value.reduceRegion(ee.Reducer.fixedHistogram(0, 1, 100), aoi1_sub).get('constant').getInfo()\n",
    "a = np.array(hist)\n",
    "x = a[:,0]\n",
    "y = a[:,1]/np.sum(a[:,1])\n",
    "plt.plot(x, y, '.b', label='p-value')\n",
    "plt.ylim(0, 0.05)\n",
    "plt.grid()\n",
    "plt.legend()\n",
    "plt.show()"
   ]
  },
  {
   "cell_type": "code",
   "execution_count": 88,
   "id": "dbd5c2dd",
   "metadata": {
    "executionInfo": {
     "elapsed": 184,
     "status": "ok",
     "timestamp": 1621621572285,
     "user": {
      "displayName": "Mort Canty",
      "photoUrl": "https://lh3.googleusercontent.com/a-/AOh14Gic8wrtuzbljC46e5I9nhzEOgqYcVXCDqSxyrEQ1Q=s64",
      "userId": "11792105515663483880"
     },
     "user_tz": -120
    },
    "id": "dbd5c2dd"
   },
   "outputs": [],
   "source": [
    "## Loewner order\n",
    "\n",
    "c_map = p_value.multiply(0).where(p_value.lt(0.01), 1)\n",
    "diff = im2.subtract(im1)\n",
    "d_map = c_map.multiply(0)                    # Initialize the direction map to zero.\n",
    "d_map = d_map.where(det(diff).gt(0), 2)      # All pos or neg def diffs are now labeled 2.\n",
    "d_map = d_map.where(diff.select(0).gt(0), 3) # Re-label pos def (and label some indef) to 3.\n",
    "d_map = d_map.where(det(diff).lt(0), 1)      # Label all indef to 1.\n",
    "c_map = c_map.multiply(d_map)                # Re-label the c_map, 0*X = 0, 1*1 = 1, 1*2= 2, 1*3 = 3."
   ]
  },
  {
   "cell_type": "code",
   "execution_count": 89,
   "id": "c9380873",
   "metadata": {
    "colab": {
     "base_uri": "https://localhost:8080/",
     "height": 952
    },
    "executionInfo": {
     "elapsed": 726,
     "status": "ok",
     "timestamp": 1621621580233,
     "user": {
      "displayName": "Mort Canty",
      "photoUrl": "https://lh3.googleusercontent.com/a-/AOh14Gic8wrtuzbljC46e5I9nhzEOgqYcVXCDqSxyrEQ1Q=s64",
      "userId": "11792105515663483880"
     },
     "user_tz": -120
    },
    "id": "c9380873",
    "outputId": "26759cfc-2d33-479d-91f0-f4b7e5d78da6"
   },
   "outputs": [
    {
     "data": {
      "text/html": [
       "<div style=\"width:100%;\"><div style=\"position:relative;width:100%;height:0;padding-bottom:60%;\"><span style=\"color:#565656\">Make this Notebook Trusted to load map: File -> Trust Notebook</span><iframe src=\"about:blank\" style=\"position:absolute;width:100%;height:100%;left:0;top:0;border:none !important;\" data-html=%3C%21DOCTYPE%20html%3E%0A%3Chead%3E%20%20%20%20%0A%20%20%20%20%3Cmeta%20http-equiv%3D%22content-type%22%20content%3D%22text/html%3B%20charset%3DUTF-8%22%20/%3E%0A%20%20%20%20%3Cscript%3EL_PREFER_CANVAS%3Dfalse%3B%20L_NO_TOUCH%3Dfalse%3B%20L_DISABLE_3D%3Dfalse%3B%3C/script%3E%0A%20%20%20%20%3Cscript%20src%3D%22https%3A//cdn.jsdelivr.net/npm/leaflet%401.4.0/dist/leaflet.js%22%3E%3C/script%3E%0A%20%20%20%20%3Cscript%20src%3D%22https%3A//code.jquery.com/jquery-1.12.4.min.js%22%3E%3C/script%3E%0A%20%20%20%20%3Cscript%20src%3D%22https%3A//maxcdn.bootstrapcdn.com/bootstrap/3.2.0/js/bootstrap.min.js%22%3E%3C/script%3E%0A%20%20%20%20%3Cscript%20src%3D%22https%3A//cdnjs.cloudflare.com/ajax/libs/Leaflet.awesome-markers/2.0.2/leaflet.awesome-markers.js%22%3E%3C/script%3E%0A%20%20%20%20%3Clink%20rel%3D%22stylesheet%22%20href%3D%22https%3A//cdn.jsdelivr.net/npm/leaflet%401.4.0/dist/leaflet.css%22/%3E%0A%20%20%20%20%3Clink%20rel%3D%22stylesheet%22%20href%3D%22https%3A//maxcdn.bootstrapcdn.com/bootstrap/3.2.0/css/bootstrap.min.css%22/%3E%0A%20%20%20%20%3Clink%20rel%3D%22stylesheet%22%20href%3D%22https%3A//maxcdn.bootstrapcdn.com/bootstrap/3.2.0/css/bootstrap-theme.min.css%22/%3E%0A%20%20%20%20%3Clink%20rel%3D%22stylesheet%22%20href%3D%22https%3A//maxcdn.bootstrapcdn.com/font-awesome/4.6.3/css/font-awesome.min.css%22/%3E%0A%20%20%20%20%3Clink%20rel%3D%22stylesheet%22%20href%3D%22https%3A//cdnjs.cloudflare.com/ajax/libs/Leaflet.awesome-markers/2.0.2/leaflet.awesome-markers.css%22/%3E%0A%20%20%20%20%3Clink%20rel%3D%22stylesheet%22%20href%3D%22https%3A//rawcdn.githack.com/python-visualization/folium/master/folium/templates/leaflet.awesome.rotate.css%22/%3E%0A%20%20%20%20%3Cstyle%3Ehtml%2C%20body%20%7Bwidth%3A%20100%25%3Bheight%3A%20100%25%3Bmargin%3A%200%3Bpadding%3A%200%3B%7D%3C/style%3E%0A%20%20%20%20%3Cstyle%3E%23map%20%7Bposition%3Aabsolute%3Btop%3A0%3Bbottom%3A0%3Bright%3A0%3Bleft%3A0%3B%7D%3C/style%3E%0A%20%20%20%20%0A%20%20%20%20%3Cmeta%20name%3D%22viewport%22%20content%3D%22width%3Ddevice-width%2C%0A%20%20%20%20%20%20%20%20initial-scale%3D1.0%2C%20maximum-scale%3D1.0%2C%20user-scalable%3Dno%22%20/%3E%0A%20%20%20%20%3Cstyle%3E%23map_bb727aac601d40d286bcbb694dc87c00%20%7B%0A%20%20%20%20%20%20%20%20position%3A%20relative%3B%0A%20%20%20%20%20%20%20%20width%3A%20100.0%25%3B%0A%20%20%20%20%20%20%20%20height%3A%20100.0%25%3B%0A%20%20%20%20%20%20%20%20left%3A%200.0%25%3B%0A%20%20%20%20%20%20%20%20top%3A%200.0%25%3B%0A%20%20%20%20%20%20%20%20%7D%0A%20%20%20%20%3C/style%3E%0A%3C/head%3E%0A%3Cbody%3E%20%20%20%20%0A%20%20%20%20%0A%20%20%20%20%3Cdiv%20class%3D%22folium-map%22%20id%3D%22map_bb727aac601d40d286bcbb694dc87c00%22%20%3E%3C/div%3E%0A%3C/body%3E%0A%3Cscript%3E%20%20%20%20%0A%20%20%20%20%0A%20%20%20%20%0A%20%20%20%20%20%20%20%20var%20bounds%20%3D%20null%3B%0A%20%20%20%20%0A%0A%20%20%20%20var%20map_bb727aac601d40d286bcbb694dc87c00%20%3D%20L.map%28%0A%20%20%20%20%20%20%20%20%27map_bb727aac601d40d286bcbb694dc87c00%27%2C%20%7B%0A%20%20%20%20%20%20%20%20center%3A%20%5B49.82756177743855%2C%20-98.10894012451173%5D%2C%0A%20%20%20%20%20%20%20%20zoom%3A%2012%2C%0A%20%20%20%20%20%20%20%20maxBounds%3A%20bounds%2C%0A%20%20%20%20%20%20%20%20layers%3A%20%5B%5D%2C%0A%20%20%20%20%20%20%20%20worldCopyJump%3A%20false%2C%0A%20%20%20%20%20%20%20%20crs%3A%20L.CRS.EPSG3857%2C%0A%20%20%20%20%20%20%20%20zoomControl%3A%20true%2C%0A%20%20%20%20%20%20%20%20%7D%29%3B%0A%0A%0A%20%20%20%20%0A%20%20%20%20var%20tile_layer_787a8a6ac87945e29095fdd5d7889388%20%3D%20L.tileLayer%28%0A%20%20%20%20%20%20%20%20%27https%3A//%7Bs%7D.tile.openstreetmap.org/%7Bz%7D/%7Bx%7D/%7By%7D.png%27%2C%0A%20%20%20%20%20%20%20%20%7B%0A%20%20%20%20%20%20%20%20%22attribution%22%3A%20null%2C%0A%20%20%20%20%20%20%20%20%22detectRetina%22%3A%20false%2C%0A%20%20%20%20%20%20%20%20%22maxNativeZoom%22%3A%2018%2C%0A%20%20%20%20%20%20%20%20%22maxZoom%22%3A%2018%2C%0A%20%20%20%20%20%20%20%20%22minZoom%22%3A%200%2C%0A%20%20%20%20%20%20%20%20%22noWrap%22%3A%20false%2C%0A%20%20%20%20%20%20%20%20%22opacity%22%3A%201%2C%0A%20%20%20%20%20%20%20%20%22subdomains%22%3A%20%22abc%22%2C%0A%20%20%20%20%20%20%20%20%22tms%22%3A%20false%0A%7D%29.addTo%28map_bb727aac601d40d286bcbb694dc87c00%29%3B%0A%20%20%20%20var%20tile_layer_c1365a67be7143dd9b09d3231bbb0aef%20%3D%20L.tileLayer%28%0A%20%20%20%20%20%20%20%20%27https%3A//earthengine.googleapis.com/v1alpha/projects/earthengine-legacy/maps/1ceecf6530455930ce484104c3080155-f1f3bc688e1c0cc5c1c35461ae815d44/tiles/%7Bz%7D/%7Bx%7D/%7By%7D%27%2C%0A%20%20%20%20%20%20%20%20%7B%0A%20%20%20%20%20%20%20%20%22attribution%22%3A%20%22Map%20Data%20%26copy%3B%20%3Ca%20href%3D%5C%22https%3A//earthengine.google.com/%5C%22%3EGoogle%20Earth%20Engine%3C/a%3E%22%2C%0A%20%20%20%20%20%20%20%20%22detectRetina%22%3A%20false%2C%0A%20%20%20%20%20%20%20%20%22maxNativeZoom%22%3A%2018%2C%0A%20%20%20%20%20%20%20%20%22maxZoom%22%3A%2018%2C%0A%20%20%20%20%20%20%20%20%22minZoom%22%3A%200%2C%0A%20%20%20%20%20%20%20%20%22noWrap%22%3A%20false%2C%0A%20%20%20%20%20%20%20%20%22opacity%22%3A%201%2C%0A%20%20%20%20%20%20%20%20%22subdomains%22%3A%20%22abc%22%2C%0A%20%20%20%20%20%20%20%20%22tms%22%3A%20false%0A%7D%29.addTo%28map_bb727aac601d40d286bcbb694dc87c00%29%3B%0A%20%20%20%20var%20tile_layer_3280d9f11db0473fac6b0cfd2cf0aa96%20%3D%20L.tileLayer%28%0A%20%20%20%20%20%20%20%20%27https%3A//earthengine.googleapis.com/v1alpha/projects/earthengine-legacy/maps/e3de37f0449a7aeec7219009893bf45a-ebf8f2e624718764df4b2f07f299ac0a/tiles/%7Bz%7D/%7Bx%7D/%7By%7D%27%2C%0A%20%20%20%20%20%20%20%20%7B%0A%20%20%20%20%20%20%20%20%22attribution%22%3A%20%22Map%20Data%20%26copy%3B%20%3Ca%20href%3D%5C%22https%3A//earthengine.google.com/%5C%22%3EGoogle%20Earth%20Engine%3C/a%3E%22%2C%0A%20%20%20%20%20%20%20%20%22detectRetina%22%3A%20false%2C%0A%20%20%20%20%20%20%20%20%22maxNativeZoom%22%3A%2018%2C%0A%20%20%20%20%20%20%20%20%22maxZoom%22%3A%2018%2C%0A%20%20%20%20%20%20%20%20%22minZoom%22%3A%200%2C%0A%20%20%20%20%20%20%20%20%22noWrap%22%3A%20false%2C%0A%20%20%20%20%20%20%20%20%22opacity%22%3A%201%2C%0A%20%20%20%20%20%20%20%20%22subdomains%22%3A%20%22abc%22%2C%0A%20%20%20%20%20%20%20%20%22tms%22%3A%20false%0A%7D%29.addTo%28map_bb727aac601d40d286bcbb694dc87c00%29%3B%0A%20%20%20%20%0A%20%20%20%20%20%20%20%20%20%20%20%20var%20layer_control_9a525220c4af40848747b2a61fbd4119%20%3D%20%7B%0A%20%20%20%20%20%20%20%20%20%20%20%20%20%20%20%20base_layers%20%3A%20%7B%20%22openstreetmap%22%20%3A%20tile_layer_787a8a6ac87945e29095fdd5d7889388%2C%20%7D%2C%0A%20%20%20%20%20%20%20%20%20%20%20%20%20%20%20%20overlays%20%3A%20%7B%20%22crop2018%22%20%3A%20tile_layer_c1365a67be7143dd9b09d3231bbb0aef%2C%22c_map%22%20%3A%20tile_layer_3280d9f11db0473fac6b0cfd2cf0aa96%2C%20%7D%0A%20%20%20%20%20%20%20%20%20%20%20%20%20%20%20%20%7D%3B%0A%20%20%20%20%20%20%20%20%20%20%20%20L.control.layers%28%0A%20%20%20%20%20%20%20%20%20%20%20%20%20%20%20%20layer_control_9a525220c4af40848747b2a61fbd4119.base_layers%2C%0A%20%20%20%20%20%20%20%20%20%20%20%20%20%20%20%20layer_control_9a525220c4af40848747b2a61fbd4119.overlays%2C%0A%20%20%20%20%20%20%20%20%20%20%20%20%20%20%20%20%7Bposition%3A%20%27topright%27%2C%0A%20%20%20%20%20%20%20%20%20%20%20%20%20%20%20%20%20collapsed%3A%20true%2C%0A%20%20%20%20%20%20%20%20%20%20%20%20%20%20%20%20%20autoZIndex%3A%20true%0A%20%20%20%20%20%20%20%20%20%20%20%20%20%20%20%20%7D%29.addTo%28map_bb727aac601d40d286bcbb694dc87c00%29%3B%0A%20%20%20%20%20%20%20%20%20%20%20%20%0A%20%20%20%20%20%20%20%20%0A%3C/script%3E onload=\"this.contentDocument.open();this.contentDocument.write(    decodeURIComponent(this.getAttribute('data-html')));this.contentDocument.close();\" allowfullscreen webkitallowfullscreen mozallowfullscreen></iframe></div></div>"
      ],
      "text/plain": [
       "<folium.folium.Map at 0x7f499f109810>"
      ]
     },
     "execution_count": 89,
     "metadata": {
      "tags": []
     },
     "output_type": "execute_result"
    }
   ],
   "source": [
    "## display changes\n",
    "## positive is red, negative blue, indefinite yellow\n",
    "\n",
    "mp = folium.Map(location=location, zoom_start=12)\n",
    "mp.add_ee_layer(crop2018, {min: 0, max: 255}, 'crop2018')\n",
    "mp.add_ee_layer(\n",
    "    c_map.updateMask(c_map.gt(0)), {\n",
    "        'min': 0,\n",
    "        'max': 3,\n",
    "        'palette': ['black', 'yellow', 'blue', 'red']\n",
    "    }, 'c_map')\n",
    "mp.add_child(folium.LayerControl())"
   ]
  },
  {
   "cell_type": "code",
   "execution_count": null,
   "id": "28317180",
   "metadata": {
    "id": "28317180"
   },
   "outputs": [],
   "source": []
  }
 ],
 "metadata": {
  "colab": {
   "collapsed_sections": [],
   "name": "Sentinel1_Part2_NL (1).ipynb",
   "provenance": []
  },
  "kernelspec": {
   "display_name": "Python 3",
   "language": "python",
   "name": "python3"
  },
  "language_info": {
   "codemirror_mode": {
    "name": "ipython",
    "version": 3
   },
   "file_extension": ".py",
   "mimetype": "text/x-python",
   "name": "python",
   "nbconvert_exporter": "python",
   "pygments_lexer": "ipython3",
   "version": "3.9.4"
  }
 },
 "nbformat": 4,
 "nbformat_minor": 5
}
