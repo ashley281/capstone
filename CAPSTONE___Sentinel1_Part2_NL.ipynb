{
 "cells": [
  {
   "cell_type": "code",
   "execution_count": 1,
   "id": "bedec230",
   "metadata": {
    "colab": {
     "base_uri": "https://localhost:8080/"
    },
    "executionInfo": {
     "elapsed": 18040,
     "status": "ok",
     "timestamp": 1621617363482,
     "user": {
      "displayName": "Mort Canty",
      "photoUrl": "https://lh3.googleusercontent.com/a-/AOh14Gic8wrtuzbljC46e5I9nhzEOgqYcVXCDqSxyrEQ1Q=s64",
      "userId": "11792105515663483880"
     },
     "user_tz": -120
    },
    "id": "bedec230",
    "outputId": "3a5e38ab-b4d8-45cb-a5c8-d22e2537dd41"
   },
   "outputs": [],
   "source": [
    "## this workflow follows the tutorial published by Dr. Mort Canty\n",
    "## https://developers.google.com/earth-engine/tutorials/community/detecting-changes-in-sentinel-1-imagery-pt-2"
   ]
  },
  {
   "cell_type": "code",
   "execution_count": 21,
   "id": "b32ab741",
   "metadata": {},
   "outputs": [],
   "source": [
    "## import Earth Engine API\n",
    "  \n",
    "import ee\n",
    "\n",
    "#ee.Authenticate()\n",
    "\n",
    "ee.Initialize()"
   ]
  },
  {
   "cell_type": "code",
   "execution_count": 22,
   "id": "5dbe457b",
   "metadata": {
    "id": "5dbe457b"
   },
   "outputs": [],
   "source": [
    "## imports maptlotlib and numpy\n",
    "\n",
    "import matplotlib.pyplot as plt\n",
    "import numpy as np\n",
    "from scipy.stats import norm, gamma, f, chi2\n",
    "import IPython.display as disp\n",
    "%matplotlib inline"
   ]
  },
  {
   "cell_type": "code",
   "execution_count": 23,
   "id": "7ffe6590",
   "metadata": {
    "id": "7ffe6590"
   },
   "outputs": [],
   "source": [
    "import os"
   ]
  },
  {
   "cell_type": "code",
   "execution_count": 24,
   "id": "ea3ffd0a",
   "metadata": {
    "id": "ea3ffd0a"
   },
   "outputs": [],
   "source": [
    "## import folium\n",
    "\n",
    "import folium\n",
    "\n",
    "# Define a method for displaying Earth Engine image tiles to folium map.\n",
    "def add_ee_layer(self, ee_image_object, vis_params, name):\n",
    "  map_id_dict = ee.Image(ee_image_object).getMapId(vis_params)\n",
    "  folium.raster_layers.TileLayer(\n",
    "    tiles = map_id_dict['tile_fetcher'].url_format,\n",
    "    attr = 'Map Data &copy; <a href=\"https://earthengine.google.com/\">Google Earth Engine</a>',\n",
    "    name = name,\n",
    "    overlay = True,\n",
    "    control = True\n",
    "  ).add_to(self)\n",
    "\n",
    "# Add EE drawing method to folium.\n",
    "folium.Map.add_ee_layer = add_ee_layer"
   ]
  },
  {
   "cell_type": "code",
   "execution_count": 77,
   "id": "ee5a70df",
   "metadata": {
    "executionInfo": {
     "elapsed": 346,
     "status": "ok",
     "timestamp": 1621619860417,
     "user": {
      "displayName": "Mort Canty",
      "photoUrl": "https://lh3.googleusercontent.com/a-/AOh14Gic8wrtuzbljC46e5I9nhzEOgqYcVXCDqSxyrEQ1Q=s64",
      "userId": "11792105515663483880"
     },
     "user_tz": -120
    },
    "id": "ee5a70df"
   },
   "outputs": [],
   "source": [
    "## define coordinates of AOI\n",
    "geoJSON = {\n",
    "  \"type\": \"FeatureCollection\",\n",
    "  \"features\": [\n",
    "    {\n",
    "      \"type\": \"Feature\",\n",
    "      \"properties\": {},\n",
    "      \"geometry\": {\n",
    "        \"type\": \"Polygon\",\n",
    "        \"coordinates\": [\n",
    "          [\n",
    "            [\n",
    "              -59.38796997070312,\n",
    "              47.81292395845202\n",
    "            ],\n",
    "            [\n",
    "              -59.180259704589844,\n",
    "              47.81292395845202\n",
    "            ],\n",
    "            [\n",
    "              -59.180259704589844,\n",
    "              47.859936815136166\n",
    "            ],\n",
    "            [\n",
    "              -59.38796997070312,\n",
    "              47.859936815136166\n",
    "            ],\n",
    "            [\n",
    "              -59.38796997070312,\n",
    "              47.81292395845202\n",
    "            ]\n",
    "          ]\n",
    "        ]\n",
    "      }\n",
    "    }\n",
    "  ]\n",
    "}\n",
    "coords = geoJSON['features'][0]['geometry']['coordinates']\n",
    "aoi = ee.Geometry.Polygon(coords)\n",
    "geoJSON = {\n",
    "  \"type\": \"FeatureCollection\",\n",
    "  \"features\": [\n",
    "    {\n",
    "      \"type\": \"Feature\",\n",
    "      \"properties\": {},\n",
    "      \"geometry\": {\n",
    "        \"type\": \"Polygon\",\n",
    "        \"coordinates\": [\n",
    "          [\n",
    "            [\n",
    "             -59.36325073242187,\n",
    "              47.84081417507446\n",
    "            ],\n",
    "            [\n",
    "              -59.34642791748047,\n",
    "              47.84081417507446\n",
    "            ],\n",
    "            [\n",
    "              -59.34642791748047,\n",
    "              47.851989104188284\n",
    "            ],\n",
    "            [\n",
    "              -59.36325073242187,\n",
    "              47.851989104188284\n",
    "            ],\n",
    "            [\n",
    "              -59.36325073242187,\n",
    "              47.84081417507446\n",
    "            ]\n",
    "          ]\n",
    "        ]\n",
    "      }\n",
    "    }\n",
    "  ]\n",
    "}\n",
    "coords = geoJSON['features'][0]['geometry']['coordinates']\n",
    "aoi_sub = ee.Geometry.Polygon(coords)"
   ]
  },
  {
   "cell_type": "code",
   "execution_count": 78,
   "id": "dab2ea69",
   "metadata": {
    "id": "dab2ea69"
   },
   "outputs": [],
   "source": [
    "## filter through S1 imagery to collect 2 images from the designated period of time\n",
    "\n",
    "im_coll = (ee.ImageCollection('COPERNICUS/S1_GRD_FLOAT')\n",
    "                .filterBounds(aoi)\n",
    "                .filterDate(ee.Date('2016-08-01'),ee.Date('2020-08-31'))\n",
    "                .filter(ee.Filter.eq('orbitProperties_pass', 'ASCENDING'))\n",
    "               .filter(ee.Filter.eq('relativeOrbitNumber_start', 47))\n",
    "                .sort('system:time_start'))"
   ]
  },
  {
   "cell_type": "code",
   "execution_count": 79,
   "id": "eca4111e",
   "metadata": {
    "colab": {
     "base_uri": "https://localhost:8080/"
    },
    "executionInfo": {
     "elapsed": 186,
     "status": "ok",
     "timestamp": 1621617397627,
     "user": {
      "displayName": "Mort Canty",
      "photoUrl": "https://lh3.googleusercontent.com/a-/AOh14Gic8wrtuzbljC46e5I9nhzEOgqYcVXCDqSxyrEQ1Q=s64",
      "userId": "11792105515663483880"
     },
     "user_tz": -120
    },
    "id": "eca4111e",
    "outputId": "49ecae36-795f-4d97-c585-6a7a2c891afc"
   },
   "outputs": [
    {
     "data": {
      "text/plain": [
       "['09/27/16',\n",
       " '10/09/16',\n",
       " '10/21/16',\n",
       " '11/02/16',\n",
       " '11/14/16',\n",
       " '11/26/16',\n",
       " '12/08/16',\n",
       " '12/20/16',\n",
       " '01/01/17',\n",
       " '01/13/17',\n",
       " '01/25/17',\n",
       " '02/06/17',\n",
       " '02/18/17',\n",
       " '03/02/17',\n",
       " '03/14/17',\n",
       " '03/26/17',\n",
       " '04/07/17',\n",
       " '04/19/17',\n",
       " '05/01/17',\n",
       " '05/13/17',\n",
       " '05/25/17',\n",
       " '06/06/17',\n",
       " '06/18/17',\n",
       " '06/30/17',\n",
       " '07/12/17',\n",
       " '07/24/17',\n",
       " '08/05/17',\n",
       " '08/17/17',\n",
       " '08/29/17',\n",
       " '09/10/17',\n",
       " '09/22/17',\n",
       " '10/04/17',\n",
       " '10/16/17',\n",
       " '10/28/17',\n",
       " '11/09/17',\n",
       " '11/21/17',\n",
       " '12/03/17',\n",
       " '12/15/17',\n",
       " '12/27/17',\n",
       " '01/08/18',\n",
       " '01/20/18',\n",
       " '02/01/18',\n",
       " '02/13/18',\n",
       " '02/25/18',\n",
       " '03/09/18',\n",
       " '03/21/18',\n",
       " '04/02/18',\n",
       " '04/14/18',\n",
       " '04/26/18',\n",
       " '05/08/18',\n",
       " '05/20/18',\n",
       " '06/13/18',\n",
       " '06/25/18',\n",
       " '07/19/18',\n",
       " '07/31/18',\n",
       " '08/12/18',\n",
       " '08/24/18',\n",
       " '09/05/18',\n",
       " '09/17/18',\n",
       " '09/29/18',\n",
       " '10/11/18',\n",
       " '10/23/18',\n",
       " '11/04/18',\n",
       " '11/16/18',\n",
       " '11/28/18',\n",
       " '12/10/18',\n",
       " '12/22/18',\n",
       " '01/03/19',\n",
       " '01/15/19',\n",
       " '01/27/19',\n",
       " '02/08/19',\n",
       " '02/20/19',\n",
       " '03/04/19',\n",
       " '03/16/19',\n",
       " '03/28/19',\n",
       " '04/09/19',\n",
       " '04/21/19',\n",
       " '05/03/19',\n",
       " '05/15/19',\n",
       " '05/27/19',\n",
       " '06/08/19',\n",
       " '06/20/19',\n",
       " '07/14/19',\n",
       " '07/26/19',\n",
       " '08/07/19',\n",
       " '08/19/19',\n",
       " '09/12/19',\n",
       " '09/24/19',\n",
       " '10/06/19',\n",
       " '10/18/19',\n",
       " '10/30/19',\n",
       " '11/11/19',\n",
       " '11/23/19',\n",
       " '12/05/19',\n",
       " '12/17/19',\n",
       " '12/29/19',\n",
       " '01/10/20',\n",
       " '01/22/20',\n",
       " '02/03/20',\n",
       " '02/15/20',\n",
       " '02/27/20',\n",
       " '03/10/20',\n",
       " '03/22/20',\n",
       " '04/03/20',\n",
       " '04/15/20',\n",
       " '04/27/20',\n",
       " '05/09/20',\n",
       " '05/21/20',\n",
       " '06/02/20',\n",
       " '06/14/20',\n",
       " '06/26/20',\n",
       " '07/08/20',\n",
       " '07/20/20',\n",
       " '08/01/20',\n",
       " '08/13/20',\n",
       " '08/25/20']"
      ]
     },
     "execution_count": 79,
     "metadata": {},
     "output_type": "execute_result"
    }
   ],
   "source": [
    "## get info of the acquisition times\n",
    "\n",
    "import time\n",
    "acq_times = im_coll.aggregate_array('system:time_start').getInfo()\n",
    "[time.strftime('%x', time.gmtime(acq_time/1000)) for acq_time in acq_times]"
   ]
  },
  {
   "cell_type": "code",
   "execution_count": 80,
   "id": "c9642c0b",
   "metadata": {
    "executionInfo": {
     "elapsed": 197,
     "status": "ok",
     "timestamp": 1621619870818,
     "user": {
      "displayName": "Mort Canty",
      "photoUrl": "https://lh3.googleusercontent.com/a-/AOh14Gic8wrtuzbljC46e5I9nhzEOgqYcVXCDqSxyrEQ1Q=s64",
      "userId": "11792105515663483880"
     },
     "user_tz": -120
    },
    "id": "c9642c0b"
   },
   "outputs": [],
   "source": [
    "## selects the first two images and extracts the VV bands\n",
    "\n",
    "im_list = im_coll.toList(im_coll.size())\n",
    "im1 = ee.Image(im_list.get(1)).select('VV').clip(aoi_sub)\n",
    "im2 = ee.Image(im_list.get(40)).select('VV').clip(aoi_sub)"
   ]
  },
  {
   "cell_type": "code",
   "execution_count": 81,
   "id": "24066202",
   "metadata": {
    "colab": {
     "base_uri": "https://localhost:8080/",
     "height": 588
    },
    "executionInfo": {
     "elapsed": 767,
     "status": "ok",
     "timestamp": 1621619874791,
     "user": {
      "displayName": "Mort Canty",
      "photoUrl": "https://lh3.googleusercontent.com/a-/AOh14Gic8wrtuzbljC46e5I9nhzEOgqYcVXCDqSxyrEQ1Q=s64",
      "userId": "11792105515663483880"
     },
     "user_tz": -120
    },
    "id": "24066202",
    "outputId": "8a074d73-7be4-49e9-e5fe-fb517936b5e2"
   },
   "outputs": [
    {
     "data": {
      "text/html": [
       "<img src=\"https://earthengine.googleapis.com/v1alpha/projects/earthengine-legacy/thumbnails/90dce61d95efd8dc1af012c71f6b1d29-869cfb79c1ed2c24b436c04feb9337cc:getPixels\" width=\"800\"/>"
      ],
      "text/plain": [
       "<IPython.core.display.Image object>"
      ]
     },
     "execution_count": 81,
     "metadata": {},
     "output_type": "execute_result"
    }
   ],
   "source": [
    "ratio = im1.divide(im2)\n",
    "url = ratio.getThumbURL({'min': 0, 'max': 10})\n",
    "disp.Image(url=url, width=800)"
   ]
  },
  {
   "cell_type": "code",
   "execution_count": 82,
   "id": "3344ed1f",
   "metadata": {
    "executionInfo": {
     "elapsed": 512,
     "status": "ok",
     "timestamp": 1621619910082,
     "user": {
      "displayName": "Mort Canty",
      "photoUrl": "https://lh3.googleusercontent.com/a-/AOh14Gic8wrtuzbljC46e5I9nhzEOgqYcVXCDqSxyrEQ1Q=s64",
      "userId": "11792105515663483880"
     },
     "user_tz": -120
    },
    "id": "3344ed1f"
   },
   "outputs": [],
   "source": [
    "## use reducers to calculate the histogram, mean and variance of the ratio image\n",
    "\n",
    "hist = ratio.reduceRegion(ee.Reducer.fixedHistogram(0, 5, 500), aoi_sub).get('VV').getInfo()\n",
    "mean = ratio.reduceRegion(ee.Reducer.mean(), aoi_sub).get('VV').getInfo()\n",
    "variance = ratio.reduceRegion(ee.Reducer.variance(), aoi).get('VV').getInfo()"
   ]
  },
  {
   "cell_type": "code",
   "execution_count": 83,
   "id": "d5ed767e",
   "metadata": {
    "colab": {
     "base_uri": "https://localhost:8080/",
     "height": 265
    },
    "executionInfo": {
     "elapsed": 236,
     "status": "ok",
     "timestamp": 1621619913369,
     "user": {
      "displayName": "Mort Canty",
      "photoUrl": "https://lh3.googleusercontent.com/a-/AOh14Gic8wrtuzbljC46e5I9nhzEOgqYcVXCDqSxyrEQ1Q=s64",
      "userId": "11792105515663483880"
     },
     "user_tz": -120
    },
    "id": "d5ed767e",
    "outputId": "ae8f29b7-f83e-40ed-dfb0-512e0bffe48c"
   },
   "outputs": [
    {
     "data": {
      "image/png": "[encoded data removed]",
      "text/plain": [
       "<Figure size 432x288 with 1 Axes>"
      ]
     },
     "metadata": {
      "needs_background": "light"
     },
     "output_type": "display_data"
    }
   ],
   "source": [
    "## plot the normalized histogram using numpy and matplotlib\n",
    "\n",
    "a = np.array(hist)\n",
    "x = a[:, 0]\n",
    "y = a[:, 1] / np.sum(a[:, 1])\n",
    "plt.grid()\n",
    "plt.plot(x, y, '.')\n",
    "plt.show()"
   ]
  },
  {
   "cell_type": "code",
   "execution_count": 84,
   "id": "1e96e3b2",
   "metadata": {
    "colab": {
     "base_uri": "https://localhost:8080/",
     "height": 265
    },
    "executionInfo": {
     "elapsed": 248,
     "status": "ok",
     "timestamp": 1621619917472,
     "user": {
      "displayName": "Mort Canty",
      "photoUrl": "https://lh3.googleusercontent.com/a-/AOh14Gic8wrtuzbljC46e5I9nhzEOgqYcVXCDqSxyrEQ1Q=s64",
      "userId": "11792105515663483880"
     },
     "user_tz": -120
    },
    "id": "1e96e3b2",
    "outputId": "9427726d-4bb5-481b-86e5-7ac50ddbd9eb"
   },
   "outputs": [
    {
     "data": {
      "image/png": "[encoded data removed]",
      "text/plain": [
       "<Figure size 432x288 with 1 Axes>"
      ]
     },
     "metadata": {
      "needs_background": "light"
     },
     "output_type": "display_data"
    }
   ],
   "source": [
    "## bin widths are 0.001, divide by 100\n",
    "\n",
    "m = 5\n",
    "plt.grid()\n",
    "plt.plot(x, y, '.', label='data')\n",
    "plt.plot(x, f.pdf(x, 2*m, 2*m) / 100, '-r', label='F-dist')\n",
    "plt.legend()\n",
    "plt.show()"
   ]
  },
  {
   "cell_type": "code",
   "execution_count": 85,
   "id": "f4c5d019",
   "metadata": {
    "colab": {
     "base_uri": "https://localhost:8080/"
    },
    "executionInfo": {
     "elapsed": 224,
     "status": "ok",
     "timestamp": 1621619922905,
     "user": {
      "displayName": "Mort Canty",
      "photoUrl": "https://lh3.googleusercontent.com/a-/AOh14Gic8wrtuzbljC46e5I9nhzEOgqYcVXCDqSxyrEQ1Q=s64",
      "userId": "11792105515663483880"
     },
     "user_tz": -120
    },
    "id": "f4c5d019",
    "outputId": "cfb5177a-1907-4559-dd96-8c884a57a7fc"
   },
   "outputs": [
    {
     "name": "stdout",
     "output_type": "stream",
     "text": [
      "1.6807895072573802 1.25\n",
      "2.3768911653149223 0.9375\n"
     ]
    }
   ],
   "source": [
    "## verify the mean and variance\n",
    "\n",
    "print(mean, m/(m-1))\n",
    "print(variance, m*(2*m-1)/(m-1)**2/(m-2))"
   ]
  },
  {
   "cell_type": "code",
   "execution_count": 86,
   "id": "bc8d535c",
   "metadata": {
    "colab": {
     "base_uri": "https://localhost:8080/",
     "height": 952
    },
    "executionInfo": {
     "elapsed": 544,
     "status": "ok",
     "timestamp": 1621621420961,
     "user": {
      "displayName": "Mort Canty",
      "photoUrl": "https://lh3.googleusercontent.com/a-/AOh14Gic8wrtuzbljC46e5I9nhzEOgqYcVXCDqSxyrEQ1Q=s64",
      "userId": "11792105515663483880"
     },
     "user_tz": -120
    },
    "id": "bc8d535c",
    "outputId": "cdc5dfee-60eb-496d-abf7-4d2fdf378192"
   },
   "outputs": [
    {
     "data": {
      "text/html": [
       "<div style=\"width:100%;\"><div style=\"position:relative;width:100%;height:0;padding-bottom:60%;\"><span style=\"color:#565656\">Make this Notebook Trusted to load map: File -> Trust Notebook</span><iframe src=\"about:blank\" style=\"position:absolute;width:100%;height:100%;left:0;top:0;border:none !important;\" data-html=%3C%21DOCTYPE%20html%3E%0A%3Chead%3E%20%20%20%20%0A%20%20%20%20%3Cmeta%20http-equiv%3D%22content-type%22%20content%3D%22text/html%3B%20charset%3DUTF-8%22%20/%3E%0A%20%20%20%20%0A%20%20%20%20%20%20%20%20%3Cscript%3E%0A%20%20%20%20%20%20%20%20%20%20%20%20L_NO_TOUCH%20%3D%20false%3B%0A%20%20%20%20%20%20%20%20%20%20%20%20L_DISABLE_3D%20%3D%20false%3B%0A%20%20%20%20%20%20%20%20%3C/script%3E%0A%20%20%20%20%0A%20%20%20%20%3Cstyle%3Ehtml%2C%20body%20%7Bwidth%3A%20100%25%3Bheight%3A%20100%25%3Bmargin%3A%200%3Bpadding%3A%200%3B%7D%3C/style%3E%0A%20%20%20%20%3Cstyle%3E%23map%20%7Bposition%3Aabsolute%3Btop%3A0%3Bbottom%3A0%3Bright%3A0%3Bleft%3A0%3B%7D%3C/style%3E%0A%20%20%20%20%3Cscript%20src%3D%22https%3A//cdn.jsdelivr.net/npm/leaflet%401.6.0/dist/leaflet.js%22%3E%3C/script%3E%0A%20%20%20%20%3Cscript%20src%3D%22https%3A//code.jquery.com/jquery-1.12.4.min.js%22%3E%3C/script%3E%0A%20%20%20%20%3Cscript%20src%3D%22https%3A//maxcdn.bootstrapcdn.com/bootstrap/3.2.0/js/bootstrap.min.js%22%3E%3C/script%3E%0A%20%20%20%20%3Cscript%20src%3D%22https%3A//cdnjs.cloudflare.com/ajax/libs/Leaflet.awesome-markers/2.0.2/leaflet.awesome-markers.js%22%3E%3C/script%3E%0A%20%20%20%20%3Clink%20rel%3D%22stylesheet%22%20href%3D%22https%3A//cdn.jsdelivr.net/npm/leaflet%401.6.0/dist/leaflet.css%22/%3E%0A%20%20%20%20%3Clink%20rel%3D%22stylesheet%22%20href%3D%22https%3A//maxcdn.bootstrapcdn.com/bootstrap/3.2.0/css/bootstrap.min.css%22/%3E%0A%20%20%20%20%3Clink%20rel%3D%22stylesheet%22%20href%3D%22https%3A//maxcdn.bootstrapcdn.com/bootstrap/3.2.0/css/bootstrap-theme.min.css%22/%3E%0A%20%20%20%20%3Clink%20rel%3D%22stylesheet%22%20href%3D%22https%3A//maxcdn.bootstrapcdn.com/font-awesome/4.6.3/css/font-awesome.min.css%22/%3E%0A%20%20%20%20%3Clink%20rel%3D%22stylesheet%22%20href%3D%22https%3A//cdnjs.cloudflare.com/ajax/libs/Leaflet.awesome-markers/2.0.2/leaflet.awesome-markers.css%22/%3E%0A%20%20%20%20%3Clink%20rel%3D%22stylesheet%22%20href%3D%22https%3A//cdn.jsdelivr.net/gh/python-visualization/folium/folium/templates/leaflet.awesome.rotate.min.css%22/%3E%0A%20%20%20%20%0A%20%20%20%20%20%20%20%20%20%20%20%20%3Cmeta%20name%3D%22viewport%22%20content%3D%22width%3Ddevice-width%2C%0A%20%20%20%20%20%20%20%20%20%20%20%20%20%20%20%20initial-scale%3D1.0%2C%20maximum-scale%3D1.0%2C%20user-scalable%3Dno%22%20/%3E%0A%20%20%20%20%20%20%20%20%20%20%20%20%3Cstyle%3E%0A%20%20%20%20%20%20%20%20%20%20%20%20%20%20%20%20%23map_01cae10e64ab472791604940ad29ec07%20%7B%0A%20%20%20%20%20%20%20%20%20%20%20%20%20%20%20%20%20%20%20%20position%3A%20relative%3B%0A%20%20%20%20%20%20%20%20%20%20%20%20%20%20%20%20%20%20%20%20width%3A%20100.0%25%3B%0A%20%20%20%20%20%20%20%20%20%20%20%20%20%20%20%20%20%20%20%20height%3A%20100.0%25%3B%0A%20%20%20%20%20%20%20%20%20%20%20%20%20%20%20%20%20%20%20%20left%3A%200.0%25%3B%0A%20%20%20%20%20%20%20%20%20%20%20%20%20%20%20%20%20%20%20%20top%3A%200.0%25%3B%0A%20%20%20%20%20%20%20%20%20%20%20%20%20%20%20%20%7D%0A%20%20%20%20%20%20%20%20%20%20%20%20%3C/style%3E%0A%20%20%20%20%20%20%20%20%0A%3C/head%3E%0A%3Cbody%3E%20%20%20%20%0A%20%20%20%20%0A%20%20%20%20%20%20%20%20%20%20%20%20%3Cdiv%20class%3D%22folium-map%22%20id%3D%22map_01cae10e64ab472791604940ad29ec07%22%20%3E%3C/div%3E%0A%20%20%20%20%20%20%20%20%0A%3C/body%3E%0A%3Cscript%3E%20%20%20%20%0A%20%20%20%20%0A%20%20%20%20%20%20%20%20%20%20%20%20var%20map_01cae10e64ab472791604940ad29ec07%20%3D%20L.map%28%0A%20%20%20%20%20%20%20%20%20%20%20%20%20%20%20%20%22map_01cae10e64ab472791604940ad29ec07%22%2C%0A%20%20%20%20%20%20%20%20%20%20%20%20%20%20%20%20%7B%0A%20%20%20%20%20%20%20%20%20%20%20%20%20%20%20%20%20%20%20%20center%3A%20%5B47.83647366886147%2C%20-59.28411483764682%5D%2C%0A%20%20%20%20%20%20%20%20%20%20%20%20%20%20%20%20%20%20%20%20crs%3A%20L.CRS.EPSG3857%2C%0A%20%20%20%20%20%20%20%20%20%20%20%20%20%20%20%20%20%20%20%20zoom%3A%2012%2C%0A%20%20%20%20%20%20%20%20%20%20%20%20%20%20%20%20%20%20%20%20zoomControl%3A%20true%2C%0A%20%20%20%20%20%20%20%20%20%20%20%20%20%20%20%20%20%20%20%20preferCanvas%3A%20false%2C%0A%20%20%20%20%20%20%20%20%20%20%20%20%20%20%20%20%7D%0A%20%20%20%20%20%20%20%20%20%20%20%20%29%3B%0A%0A%20%20%20%20%20%20%20%20%20%20%20%20%0A%0A%20%20%20%20%20%20%20%20%0A%20%20%20%20%0A%20%20%20%20%20%20%20%20%20%20%20%20var%20tile_layer_691d4daff0f14113b02dcf18f2a675a2%20%3D%20L.tileLayer%28%0A%20%20%20%20%20%20%20%20%20%20%20%20%20%20%20%20%22https%3A//%7Bs%7D.tile.openstreetmap.org/%7Bz%7D/%7Bx%7D/%7By%7D.png%22%2C%0A%20%20%20%20%20%20%20%20%20%20%20%20%20%20%20%20%7B%22attribution%22%3A%20%22Data%20by%20%5Cu0026copy%3B%20%5Cu003ca%20href%3D%5C%22http%3A//openstreetmap.org%5C%22%5Cu003eOpenStreetMap%5Cu003c/a%5Cu003e%2C%20under%20%5Cu003ca%20href%3D%5C%22http%3A//www.openstreetmap.org/copyright%5C%22%5Cu003eODbL%5Cu003c/a%5Cu003e.%22%2C%20%22detectRetina%22%3A%20false%2C%20%22maxNativeZoom%22%3A%2018%2C%20%22maxZoom%22%3A%2018%2C%20%22minZoom%22%3A%200%2C%20%22noWrap%22%3A%20false%2C%20%22opacity%22%3A%201%2C%20%22subdomains%22%3A%20%22abc%22%2C%20%22tms%22%3A%20false%7D%0A%20%20%20%20%20%20%20%20%20%20%20%20%29.addTo%28map_01cae10e64ab472791604940ad29ec07%29%3B%0A%20%20%20%20%20%20%20%20%0A%20%20%20%20%0A%20%20%20%20%20%20%20%20%20%20%20%20var%20tile_layer_4d909187ac99413da65adb83883e31e8%20%3D%20L.tileLayer%28%0A%20%20%20%20%20%20%20%20%20%20%20%20%20%20%20%20%22https%3A//earthengine.googleapis.com/v1alpha/projects/earthengine-legacy/maps/e7a810446b5d8d846e205c7e8edaf992-677c8be75a42a4334c25c7b994c3a487/tiles/%7Bz%7D/%7Bx%7D/%7By%7D%22%2C%0A%20%20%20%20%20%20%20%20%20%20%20%20%20%20%20%20%7B%22attribution%22%3A%20%22Map%20Data%20%5Cu0026copy%3B%20%5Cu003ca%20href%3D%5C%22https%3A//earthengine.google.com/%5C%22%5Cu003eGoogle%20Earth%20Engine%5Cu003c/a%5Cu003e%22%2C%20%22detectRetina%22%3A%20false%2C%20%22maxNativeZoom%22%3A%2018%2C%20%22maxZoom%22%3A%2018%2C%20%22minZoom%22%3A%200%2C%20%22noWrap%22%3A%20false%2C%20%22opacity%22%3A%201%2C%20%22subdomains%22%3A%20%22abc%22%2C%20%22tms%22%3A%20false%7D%0A%20%20%20%20%20%20%20%20%20%20%20%20%29.addTo%28map_01cae10e64ab472791604940ad29ec07%29%3B%0A%20%20%20%20%20%20%20%20%0A%20%20%20%20%0A%20%20%20%20%20%20%20%20%20%20%20%20var%20layer_control_96a2904f4419451c8b3ecff779c8f46e%20%3D%20%7B%0A%20%20%20%20%20%20%20%20%20%20%20%20%20%20%20%20base_layers%20%3A%20%7B%0A%20%20%20%20%20%20%20%20%20%20%20%20%20%20%20%20%20%20%20%20%22openstreetmap%22%20%3A%20tile_layer_691d4daff0f14113b02dcf18f2a675a2%2C%0A%20%20%20%20%20%20%20%20%20%20%20%20%20%20%20%20%7D%2C%0A%20%20%20%20%20%20%20%20%20%20%20%20%20%20%20%20overlays%20%3A%20%20%7B%0A%20%20%20%20%20%20%20%20%20%20%20%20%20%20%20%20%20%20%20%20%22Ratio%22%20%3A%20tile_layer_4d909187ac99413da65adb83883e31e8%2C%0A%20%20%20%20%20%20%20%20%20%20%20%20%20%20%20%20%7D%2C%0A%20%20%20%20%20%20%20%20%20%20%20%20%7D%3B%0A%20%20%20%20%20%20%20%20%20%20%20%20L.control.layers%28%0A%20%20%20%20%20%20%20%20%20%20%20%20%20%20%20%20layer_control_96a2904f4419451c8b3ecff779c8f46e.base_layers%2C%0A%20%20%20%20%20%20%20%20%20%20%20%20%20%20%20%20layer_control_96a2904f4419451c8b3ecff779c8f46e.overlays%2C%0A%20%20%20%20%20%20%20%20%20%20%20%20%20%20%20%20%7B%22autoZIndex%22%3A%20true%2C%20%22collapsed%22%3A%20true%2C%20%22position%22%3A%20%22topright%22%7D%0A%20%20%20%20%20%20%20%20%20%20%20%20%29.addTo%28map_01cae10e64ab472791604940ad29ec07%29%3B%0A%20%20%20%20%20%20%20%20%0A%3C/script%3E onload=\"this.contentDocument.open();this.contentDocument.write(    decodeURIComponent(this.getAttribute('data-html')));this.contentDocument.close();\" allowfullscreen webkitallowfullscreen mozallowfullscreen></iframe></div></div>"
      ],
      "text/plain": [
       "<folium.folium.Map at 0x1fa9bc37e50>"
      ]
     },
     "metadata": {},
     "output_type": "display_data"
    }
   ],
   "source": [
    "## check the f distribution of the two uncorrelated multilook images for change detection\n",
    "## likelihood ratio test statistic\n",
    "\n",
    "watermask = ee.Image('UMD/hansen/global_forest_change_2015').select('datamask').eq(1)  \n",
    "\n",
    "im1 = ee.Image(im_list.get(1)).select('VV').clip(aoi).updateMask(watermask)\n",
    "im2 = ee.Image(im_list.get(40)).select('VV').clip(aoi).updateMask(watermask)\n",
    "ratio = im1.divide(im2)\n",
    "\n",
    "location = aoi.centroid().coordinates().getInfo()[::-1]\n",
    "mp = folium.Map(location=location, zoom_start=12)\n",
    "mp.add_ee_layer(ratio,\n",
    "                {'min': 0, 'max': 20, 'palette': ['black', 'white']}, 'Ratio')\n",
    "mp.add_child(folium.LayerControl())\n",
    "\n",
    "display(mp)"
   ]
  },
  {
   "cell_type": "code",
   "execution_count": 87,
   "id": "1db92588",
   "metadata": {
    "colab": {
     "base_uri": "https://localhost:8080/",
     "height": 952
    },
    "executionInfo": {
     "elapsed": 1012,
     "status": "ok",
     "timestamp": 1621621352382,
     "user": {
      "displayName": "Mort Canty",
      "photoUrl": "https://lh3.googleusercontent.com/a-/AOh14Gic8wrtuzbljC46e5I9nhzEOgqYcVXCDqSxyrEQ1Q=s64",
      "userId": "11792105515663483880"
     },
     "user_tz": -120
    },
    "id": "1db92588",
    "outputId": "f603cb0e-0b54-41f5-ad8b-9270bcd47991"
   },
   "outputs": [
    {
     "data": {
      "text/html": [
       "<div style=\"width:100%;\"><div style=\"position:relative;width:100%;height:0;padding-bottom:60%;\"><span style=\"color:#565656\">Make this Notebook Trusted to load map: File -> Trust Notebook</span><iframe src=\"about:blank\" style=\"position:absolute;width:100%;height:100%;left:0;top:0;border:none !important;\" data-html=%3C%21DOCTYPE%20html%3E%0A%3Chead%3E%20%20%20%20%0A%20%20%20%20%3Cmeta%20http-equiv%3D%22content-type%22%20content%3D%22text/html%3B%20charset%3DUTF-8%22%20/%3E%0A%20%20%20%20%0A%20%20%20%20%20%20%20%20%3Cscript%3E%0A%20%20%20%20%20%20%20%20%20%20%20%20L_NO_TOUCH%20%3D%20false%3B%0A%20%20%20%20%20%20%20%20%20%20%20%20L_DISABLE_3D%20%3D%20false%3B%0A%20%20%20%20%20%20%20%20%3C/script%3E%0A%20%20%20%20%0A%20%20%20%20%3Cstyle%3Ehtml%2C%20body%20%7Bwidth%3A%20100%25%3Bheight%3A%20100%25%3Bmargin%3A%200%3Bpadding%3A%200%3B%7D%3C/style%3E%0A%20%20%20%20%3Cstyle%3E%23map%20%7Bposition%3Aabsolute%3Btop%3A0%3Bbottom%3A0%3Bright%3A0%3Bleft%3A0%3B%7D%3C/style%3E%0A%20%20%20%20%3Cscript%20src%3D%22https%3A//cdn.jsdelivr.net/npm/leaflet%401.6.0/dist/leaflet.js%22%3E%3C/script%3E%0A%20%20%20%20%3Cscript%20src%3D%22https%3A//code.jquery.com/jquery-1.12.4.min.js%22%3E%3C/script%3E%0A%20%20%20%20%3Cscript%20src%3D%22https%3A//maxcdn.bootstrapcdn.com/bootstrap/3.2.0/js/bootstrap.min.js%22%3E%3C/script%3E%0A%20%20%20%20%3Cscript%20src%3D%22https%3A//cdnjs.cloudflare.com/ajax/libs/Leaflet.awesome-markers/2.0.2/leaflet.awesome-markers.js%22%3E%3C/script%3E%0A%20%20%20%20%3Clink%20rel%3D%22stylesheet%22%20href%3D%22https%3A//cdn.jsdelivr.net/npm/leaflet%401.6.0/dist/leaflet.css%22/%3E%0A%20%20%20%20%3Clink%20rel%3D%22stylesheet%22%20href%3D%22https%3A//maxcdn.bootstrapcdn.com/bootstrap/3.2.0/css/bootstrap.min.css%22/%3E%0A%20%20%20%20%3Clink%20rel%3D%22stylesheet%22%20href%3D%22https%3A//maxcdn.bootstrapcdn.com/bootstrap/3.2.0/css/bootstrap-theme.min.css%22/%3E%0A%20%20%20%20%3Clink%20rel%3D%22stylesheet%22%20href%3D%22https%3A//maxcdn.bootstrapcdn.com/font-awesome/4.6.3/css/font-awesome.min.css%22/%3E%0A%20%20%20%20%3Clink%20rel%3D%22stylesheet%22%20href%3D%22https%3A//cdnjs.cloudflare.com/ajax/libs/Leaflet.awesome-markers/2.0.2/leaflet.awesome-markers.css%22/%3E%0A%20%20%20%20%3Clink%20rel%3D%22stylesheet%22%20href%3D%22https%3A//cdn.jsdelivr.net/gh/python-visualization/folium/folium/templates/leaflet.awesome.rotate.min.css%22/%3E%0A%20%20%20%20%0A%20%20%20%20%20%20%20%20%20%20%20%20%3Cmeta%20name%3D%22viewport%22%20content%3D%22width%3Ddevice-width%2C%0A%20%20%20%20%20%20%20%20%20%20%20%20%20%20%20%20initial-scale%3D1.0%2C%20maximum-scale%3D1.0%2C%20user-scalable%3Dno%22%20/%3E%0A%20%20%20%20%20%20%20%20%20%20%20%20%3Cstyle%3E%0A%20%20%20%20%20%20%20%20%20%20%20%20%20%20%20%20%23map_fbaceb177f76465ba56ff75f1af7c42f%20%7B%0A%20%20%20%20%20%20%20%20%20%20%20%20%20%20%20%20%20%20%20%20position%3A%20relative%3B%0A%20%20%20%20%20%20%20%20%20%20%20%20%20%20%20%20%20%20%20%20width%3A%20100.0%25%3B%0A%20%20%20%20%20%20%20%20%20%20%20%20%20%20%20%20%20%20%20%20height%3A%20100.0%25%3B%0A%20%20%20%20%20%20%20%20%20%20%20%20%20%20%20%20%20%20%20%20left%3A%200.0%25%3B%0A%20%20%20%20%20%20%20%20%20%20%20%20%20%20%20%20%20%20%20%20top%3A%200.0%25%3B%0A%20%20%20%20%20%20%20%20%20%20%20%20%20%20%20%20%7D%0A%20%20%20%20%20%20%20%20%20%20%20%20%3C/style%3E%0A%20%20%20%20%20%20%20%20%0A%3C/head%3E%0A%3Cbody%3E%20%20%20%20%0A%20%20%20%20%0A%20%20%20%20%20%20%20%20%20%20%20%20%3Cdiv%20class%3D%22folium-map%22%20id%3D%22map_fbaceb177f76465ba56ff75f1af7c42f%22%20%3E%3C/div%3E%0A%20%20%20%20%20%20%20%20%0A%3C/body%3E%0A%3Cscript%3E%20%20%20%20%0A%20%20%20%20%0A%20%20%20%20%20%20%20%20%20%20%20%20var%20map_fbaceb177f76465ba56ff75f1af7c42f%20%3D%20L.map%28%0A%20%20%20%20%20%20%20%20%20%20%20%20%20%20%20%20%22map_fbaceb177f76465ba56ff75f1af7c42f%22%2C%0A%20%20%20%20%20%20%20%20%20%20%20%20%20%20%20%20%7B%0A%20%20%20%20%20%20%20%20%20%20%20%20%20%20%20%20%20%20%20%20center%3A%20%5B47.83647366886147%2C%20-59.28411483764682%5D%2C%0A%20%20%20%20%20%20%20%20%20%20%20%20%20%20%20%20%20%20%20%20crs%3A%20L.CRS.EPSG3857%2C%0A%20%20%20%20%20%20%20%20%20%20%20%20%20%20%20%20%20%20%20%20zoom%3A%2013%2C%0A%20%20%20%20%20%20%20%20%20%20%20%20%20%20%20%20%20%20%20%20zoomControl%3A%20true%2C%0A%20%20%20%20%20%20%20%20%20%20%20%20%20%20%20%20%20%20%20%20preferCanvas%3A%20false%2C%0A%20%20%20%20%20%20%20%20%20%20%20%20%20%20%20%20%7D%0A%20%20%20%20%20%20%20%20%20%20%20%20%29%3B%0A%0A%20%20%20%20%20%20%20%20%20%20%20%20%0A%0A%20%20%20%20%20%20%20%20%0A%20%20%20%20%0A%20%20%20%20%20%20%20%20%20%20%20%20var%20tile_layer_2998b6abb1f44f86945f54f1edaff335%20%3D%20L.tileLayer%28%0A%20%20%20%20%20%20%20%20%20%20%20%20%20%20%20%20%22https%3A//stamen-tiles-%7Bs%7D.a.ssl.fastly.net/toner/%7Bz%7D/%7Bx%7D/%7By%7D.png%22%2C%0A%20%20%20%20%20%20%20%20%20%20%20%20%20%20%20%20%7B%22attribution%22%3A%20%22Map%20tiles%20by%20%5Cu003ca%20href%3D%5C%22http%3A//stamen.com%5C%22%5Cu003eStamen%20Design%5Cu003c/a%5Cu003e%2C%20under%20%5Cu003ca%20href%3D%5C%22http%3A//creativecommons.org/licenses/by/3.0%5C%22%5Cu003eCC%20BY%203.0%5Cu003c/a%5Cu003e.%20Data%20by%20%5Cu0026copy%3B%20%5Cu003ca%20href%3D%5C%22http%3A//openstreetmap.org%5C%22%5Cu003eOpenStreetMap%5Cu003c/a%5Cu003e%2C%20under%20%5Cu003ca%20href%3D%5C%22http%3A//www.openstreetmap.org/copyright%5C%22%5Cu003eODbL%5Cu003c/a%5Cu003e.%22%2C%20%22detectRetina%22%3A%20false%2C%20%22maxNativeZoom%22%3A%2018%2C%20%22maxZoom%22%3A%2018%2C%20%22minZoom%22%3A%200%2C%20%22noWrap%22%3A%20false%2C%20%22opacity%22%3A%201%2C%20%22subdomains%22%3A%20%22abc%22%2C%20%22tms%22%3A%20false%7D%0A%20%20%20%20%20%20%20%20%20%20%20%20%29.addTo%28map_fbaceb177f76465ba56ff75f1af7c42f%29%3B%0A%20%20%20%20%20%20%20%20%0A%20%20%20%20%0A%20%20%20%20%20%20%20%20%20%20%20%20var%20tile_layer_8a4f7450e8994213ba708b345e7bb332%20%3D%20L.tileLayer%28%0A%20%20%20%20%20%20%20%20%20%20%20%20%20%20%20%20%22https%3A//%7Bs%7D.tile.openstreetmap.org/%7Bz%7D/%7Bx%7D/%7By%7D.png%22%2C%0A%20%20%20%20%20%20%20%20%20%20%20%20%20%20%20%20%7B%22attribution%22%3A%20%22Data%20by%20%5Cu0026copy%3B%20%5Cu003ca%20href%3D%5C%22http%3A//openstreetmap.org%5C%22%5Cu003eOpenStreetMap%5Cu003c/a%5Cu003e%2C%20under%20%5Cu003ca%20href%3D%5C%22http%3A//www.openstreetmap.org/copyright%5C%22%5Cu003eODbL%5Cu003c/a%5Cu003e.%22%2C%20%22detectRetina%22%3A%20false%2C%20%22maxNativeZoom%22%3A%2018%2C%20%22maxZoom%22%3A%2018%2C%20%22minZoom%22%3A%200%2C%20%22noWrap%22%3A%20false%2C%20%22opacity%22%3A%201%2C%20%22subdomains%22%3A%20%22abc%22%2C%20%22tms%22%3A%20false%7D%0A%20%20%20%20%20%20%20%20%20%20%20%20%29.addTo%28map_fbaceb177f76465ba56ff75f1af7c42f%29%3B%0A%20%20%20%20%20%20%20%20%0A%20%20%20%20%0A%20%20%20%20%20%20%20%20%20%20%20%20var%20tile_layer_7cf5c20f77774cdb9c8d165e446d9e34%20%3D%20L.tileLayer%28%0A%20%20%20%20%20%20%20%20%20%20%20%20%20%20%20%20%22https%3A//earthengine.googleapis.com/v1alpha/projects/earthengine-legacy/maps/e7a810446b5d8d846e205c7e8edaf992-2a519b6196cc49d4227717d47a4749ff/tiles/%7Bz%7D/%7Bx%7D/%7By%7D%22%2C%0A%20%20%20%20%20%20%20%20%20%20%20%20%20%20%20%20%7B%22attribution%22%3A%20%22Map%20Data%20%5Cu0026copy%3B%20%5Cu003ca%20href%3D%5C%22https%3A//earthengine.google.com/%5C%22%5Cu003eGoogle%20Earth%20Engine%5Cu003c/a%5Cu003e%22%2C%20%22detectRetina%22%3A%20false%2C%20%22maxNativeZoom%22%3A%2018%2C%20%22maxZoom%22%3A%2018%2C%20%22minZoom%22%3A%200%2C%20%22noWrap%22%3A%20false%2C%20%22opacity%22%3A%201%2C%20%22subdomains%22%3A%20%22abc%22%2C%20%22tms%22%3A%20false%7D%0A%20%20%20%20%20%20%20%20%20%20%20%20%29.addTo%28map_fbaceb177f76465ba56ff75f1af7c42f%29%3B%0A%20%20%20%20%20%20%20%20%0A%20%20%20%20%0A%20%20%20%20%20%20%20%20%20%20%20%20var%20tile_layer_2e46842ebc864c5db689ea27e58d6991%20%3D%20L.tileLayer%28%0A%20%20%20%20%20%20%20%20%20%20%20%20%20%20%20%20%22https%3A//earthengine.googleapis.com/v1alpha/projects/earthengine-legacy/maps/424ebbc00f62e8d06c203938d3997139-fa9c0ae06b75b120786612fd958c04d3/tiles/%7Bz%7D/%7Bx%7D/%7By%7D%22%2C%0A%20%20%20%20%20%20%20%20%20%20%20%20%20%20%20%20%7B%22attribution%22%3A%20%22Map%20Data%20%5Cu0026copy%3B%20%5Cu003ca%20href%3D%5C%22https%3A//earthengine.google.com/%5C%22%5Cu003eGoogle%20Earth%20Engine%5Cu003c/a%5Cu003e%22%2C%20%22detectRetina%22%3A%20false%2C%20%22maxNativeZoom%22%3A%2018%2C%20%22maxZoom%22%3A%2018%2C%20%22minZoom%22%3A%200%2C%20%22noWrap%22%3A%20false%2C%20%22opacity%22%3A%201%2C%20%22subdomains%22%3A%20%22abc%22%2C%20%22tms%22%3A%20false%7D%0A%20%20%20%20%20%20%20%20%20%20%20%20%29.addTo%28map_fbaceb177f76465ba56ff75f1af7c42f%29%3B%0A%20%20%20%20%20%20%20%20%0A%20%20%20%20%0A%20%20%20%20%20%20%20%20%20%20%20%20var%20layer_control_bd4062c9a0184ccea8297906f8a69378%20%3D%20%7B%0A%20%20%20%20%20%20%20%20%20%20%20%20%20%20%20%20base_layers%20%3A%20%7B%0A%20%20%20%20%20%20%20%20%20%20%20%20%20%20%20%20%20%20%20%20%22stamentoner%22%20%3A%20tile_layer_2998b6abb1f44f86945f54f1edaff335%2C%0A%20%20%20%20%20%20%20%20%20%20%20%20%20%20%20%20%20%20%20%20%22openstreetmap%22%20%3A%20tile_layer_8a4f7450e8994213ba708b345e7bb332%2C%0A%20%20%20%20%20%20%20%20%20%20%20%20%20%20%20%20%7D%2C%0A%20%20%20%20%20%20%20%20%20%20%20%20%20%20%20%20overlays%20%3A%20%20%7B%0A%20%20%20%20%20%20%20%20%20%20%20%20%20%20%20%20%20%20%20%20%22Ratio%22%20%3A%20tile_layer_7cf5c20f77774cdb9c8d165e446d9e34%2C%0A%20%20%20%20%20%20%20%20%20%20%20%20%20%20%20%20%20%20%20%20%22Change%20Map%22%20%3A%20tile_layer_2e46842ebc864c5db689ea27e58d6991%2C%0A%20%20%20%20%20%20%20%20%20%20%20%20%20%20%20%20%7D%2C%0A%20%20%20%20%20%20%20%20%20%20%20%20%7D%3B%0A%20%20%20%20%20%20%20%20%20%20%20%20L.control.layers%28%0A%20%20%20%20%20%20%20%20%20%20%20%20%20%20%20%20layer_control_bd4062c9a0184ccea8297906f8a69378.base_layers%2C%0A%20%20%20%20%20%20%20%20%20%20%20%20%20%20%20%20layer_control_bd4062c9a0184ccea8297906f8a69378.overlays%2C%0A%20%20%20%20%20%20%20%20%20%20%20%20%20%20%20%20%7B%22autoZIndex%22%3A%20true%2C%20%22collapsed%22%3A%20true%2C%20%22position%22%3A%20%22topright%22%7D%0A%20%20%20%20%20%20%20%20%20%20%20%20%29.addTo%28map_fbaceb177f76465ba56ff75f1af7c42f%29%3B%0A%20%20%20%20%20%20%20%20%20%20%20%20tile_layer_8a4f7450e8994213ba708b345e7bb332.remove%28%29%3B%0A%20%20%20%20%20%20%20%20%0A%3C/script%3E onload=\"this.contentDocument.open();this.contentDocument.write(    decodeURIComponent(this.getAttribute('data-html')));this.contentDocument.close();\" allowfullscreen webkitallowfullscreen mozallowfullscreen></iframe></div></div>"
      ],
      "text/plain": [
       "<folium.folium.Map at 0x1fa9bb98df0>"
      ]
     },
     "metadata": {},
     "output_type": "display_data"
    }
   ],
   "source": [
    "## distinguish the direction of change and mask out the no-change pixels\n",
    "\n",
    "# Decision threshold alpha/2:\n",
    "dt = f.ppf(0.0005, 2*m, 2*m)\n",
    "\n",
    "# LRT statistics.\n",
    "q1 = im1.divide(im2)\n",
    "q2 = im2.divide(im1)\n",
    "\n",
    "# Change map with 0 = no change, 1 = decrease, 2 = increase in intensity.\n",
    "c_map = im1.multiply(0).where(q2.lt(dt), 1)\n",
    "c_map = c_map.where(q1.lt(dt), 2)\n",
    "\n",
    "# Mask no-change pixels.\n",
    "c_map = c_map.updateMask(c_map.gt(0))\n",
    "\n",
    "# Display map with red for increase and blue for decrease in intensity.\n",
    "location = aoi.centroid().coordinates().getInfo()[::-1]\n",
    "mp = folium.Map(\n",
    "    location=location, tiles='Stamen Toner',\n",
    "    zoom_start=13)\n",
    "folium.TileLayer('OpenStreetMap').add_to(mp)\n",
    "mp.add_ee_layer(ratio,\n",
    "                {'min': 0, 'max': 20, 'palette': ['black', 'white']}, 'Ratio')\n",
    "mp.add_ee_layer(c_map,\n",
    "                {'min': 0, 'max': 2, 'palette': ['black', 'blue', 'red']},\n",
    "                'Change Map')\n",
    "mp.add_child(folium.LayerControl())\n",
    "\n",
    "display(mp)"
   ]
  },
  {
   "cell_type": "code",
   "execution_count": 18,
   "id": "68407efa",
   "metadata": {},
   "outputs": [],
   "source": [
    "## save html file\n",
    "#mp.save('sentinel1_map.html')"
   ]
  },
  {
   "cell_type": "code",
   "execution_count": 88,
   "id": "4e311b3a",
   "metadata": {
    "executionInfo": {
     "elapsed": 193,
     "status": "ok",
     "timestamp": 1621621488160,
     "user": {
      "displayName": "Mort Canty",
      "photoUrl": "https://lh3.googleusercontent.com/a-/AOh14Gic8wrtuzbljC46e5I9nhzEOgqYcVXCDqSxyrEQ1Q=s64",
      "userId": "11792105515663483880"
     },
     "user_tz": -120
    },
    "id": "4e311b3a"
   },
   "outputs": [],
   "source": [
    "## bivariate change detection\n",
    "def det(im):\n",
    "  return im.expression('b(0) * b(1)')\n",
    "\n",
    "# Number of looks.\n",
    "m = 5\n",
    "\n",
    "im1 = ee.Image(im_list.get(0)).select('VV', 'VH').clip(aoi).updateMask(watermask)\n",
    "im2 = ee.Image(im_list.get(1)).select('VV', 'VH').clip(aoi).updateMask(watermask)\n",
    "\n",
    "m2logQ = det(im1).log().add(det(im2).log()).subtract(\n",
    "    det(im1.add(im2)).log().multiply(2)).add(4*np.log(2)).multiply(-2*m)"
   ]
  },
  {
   "cell_type": "code",
   "execution_count": 89,
   "id": "42e15c82",
   "metadata": {
    "colab": {
     "base_uri": "https://localhost:8080/",
     "height": 265
    },
    "executionInfo": {
     "elapsed": 1463,
     "status": "ok",
     "timestamp": 1621621491790,
     "user": {
      "displayName": "Mort Canty",
      "photoUrl": "https://lh3.googleusercontent.com/a-/AOh14Gic8wrtuzbljC46e5I9nhzEOgqYcVXCDqSxyrEQ1Q=s64",
      "userId": "11792105515663483880"
     },
     "user_tz": -120
    },
    "id": "42e15c82",
    "outputId": "7db1d6e3-aadf-4122-86ed-14ecddff114f"
   },
   "outputs": [
    {
     "data": {
      "image/png": "[encoded data removed]",
      "text/plain": [
       "<Figure size 432x288 with 1 Axes>"
      ]
     },
     "metadata": {
      "needs_background": "light"
     },
     "output_type": "display_data"
    }
   ],
   "source": [
    "## plot it's histogram with the chi square distribution with two degrees of freedom\n",
    "\n",
    "hist = m2logQ.reduceRegion(\n",
    "    ee.Reducer.fixedHistogram(0, 20, 200), aoi).get('VV').getInfo()\n",
    "a = np.array(hist)\n",
    "x = a[:, 0]\n",
    "y = a[:, 1] / np.sum(a[:, 1])\n",
    "plt.plot(x, y, '.', label='data')\n",
    "plt.plot(x, chi2.pdf(x, 2)/10, '-r', label='chi square')\n",
    "plt.legend()\n",
    "plt.grid()\n",
    "plt.show()"
   ]
  },
  {
   "cell_type": "code",
   "execution_count": null,
   "id": "d99c5094",
   "metadata": {},
   "outputs": [],
   "source": []
  }
 ],
 "metadata": {
  "colab": {
   "collapsed_sections": [],
   "name": "Sentinel1_Part2_NL (1).ipynb",
   "provenance": []
  },
  "kernelspec": {
   "display_name": "Python 3",
   "language": "python",
   "name": "python3"
  },
  "language_info": {
   "codemirror_mode": {
    "name": "ipython",
    "version": 3
   },
   "file_extension": ".py",
   "mimetype": "text/x-python",
   "name": "python",
   "nbconvert_exporter": "python",
   "pygments_lexer": "ipython3",
   "version": "3.9.4"
  }
 },
 "nbformat": 4,
 "nbformat_minor": 5
}
