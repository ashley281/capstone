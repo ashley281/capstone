{
 "cells": [
  {
   "cell_type": "code",
   "execution_count": 8,
   "id": "2b7a9921",
   "metadata": {},
   "outputs": [],
   "source": [
    "import ee\n",
    "import geemap"
   ]
  },
  {
   "cell_type": "code",
   "execution_count": 9,
   "id": "dcdbec46",
   "metadata": {},
   "outputs": [],
   "source": [
    "# geemap.update_package()"
   ]
  },
  {
   "cell_type": "code",
   "execution_count": 10,
   "id": "cfdab128",
   "metadata": {},
   "outputs": [
    {
     "data": {
      "application/vnd.jupyter.widget-view+json": {
       "model_id": "8df26482ebc049b3a633805600c84749",
       "version_major": 2,
       "version_minor": 0
      },
      "text/plain": [
       "Map(center=[40, -100], controls=(WidgetControl(options=['position'], widget=HBox(children=(ToggleButton(value=…"
      ]
     },
     "metadata": {},
     "output_type": "display_data"
    }
   ],
   "source": [
    "Map = geemap.Map()\n",
    "Map"
   ]
  },
  {
   "cell_type": "code",
   "execution_count": 16,
   "id": "4dca70d2",
   "metadata": {},
   "outputs": [],
   "source": [
    "Map.setCenter(47.833333, -59.3, 2)"
   ]
  },
  {
   "cell_type": "code",
   "execution_count": 17,
   "id": "2b64e53f",
   "metadata": {},
   "outputs": [
    {
     "name": "stdout",
     "output_type": "stream",
     "text": [
      "Generating URL...\n",
      "Downloading GIF image from https://earthengine.googleapis.com/v1alpha/projects/earthengine-legacy/videoThumbnails/b09cfbb29490e45f9176ec56958bfcc7-4b54134988ed53f403253fbafec956cf:getPixels\n",
      "Please wait ...\n",
      "The GIF image has been saved to: C:\\Users\\ashle\\Downloads\\landsat_ts_nya.gif\n",
      "Generating URL...\n",
      "Downloading GIF image from https://earthengine.googleapis.com/v1alpha/projects/earthengine-legacy/videoThumbnails/120c6933e8aad7559658c203474a5c39-eb3daf2c603345018e790653b1765426:getPixels\n",
      "Please wait ...\n",
      "The GIF image has been saved to: C:\\Users\\ashle\\Downloads\\landsat_ts_nya_nd.gif\n",
      "Adding animated text to GIF ...\n",
      "Adding GIF to the map ...\n",
      "The timelapse has been added to the map.\n"
     ]
    }
   ],
   "source": [
    "Map.add_landsat_ts_gif(label= 'Codroy Valley, NL', bands=['NIR', 'Red', 'Green'], nd_bands=['NIR', 'Red'], nd_palette=['black', 'green'], nd_threshold=0.3, start_year=2000, start_date='01-01', end_date='12-31', frames_per_second=5)\n"
   ]
  },
  {
   "cell_type": "code",
   "execution_count": null,
   "id": "584d90c5",
   "metadata": {},
   "outputs": [],
   "source": []
  }
 ],
 "metadata": {
  "kernelspec": {
   "display_name": "Python 3",
   "language": "python",
   "name": "python3"
  },
  "language_info": {
   "codemirror_mode": {
    "name": "ipython",
    "version": 3
   },
   "file_extension": ".py",
   "mimetype": "text/x-python",
   "name": "python",
   "nbconvert_exporter": "python",
   "pygments_lexer": "ipython3",
   "version": "3.9.4"
  }
 },
 "nbformat": 4,
 "nbformat_minor": 5
}
